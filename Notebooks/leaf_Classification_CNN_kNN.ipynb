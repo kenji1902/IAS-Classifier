{
  "cells": [
    {
      "cell_type": "markdown",
      "metadata": {
        "id": "cyg8qMwUkgVj"
      },
      "source": [
        "Import Dependencies"
      ]
    },
    {
      "cell_type": "code",
      "execution_count": 8,
      "metadata": {
        "colab": {
          "base_uri": "https://localhost:8080/"
        },
        "id": "Myf-H_Zzjs3k",
        "outputId": "2f970885-5e5a-49b9-a718-89a2b12e35d8"
      },
      "outputs": [
        {
          "name": "stdout",
          "output_type": "stream",
          "text": [
            "Python 3.9.13\n"
          ]
        }
      ],
      "source": [
        "!python -V"
      ]
    },
    {
      "cell_type": "code",
      "execution_count": 6,
      "metadata": {
        "colab": {
          "base_uri": "https://localhost:8080/"
        },
        "id": "a8S6lEPo-BGe",
        "outputId": "f0894715-57bc-4a82-bc6a-48b6c11a7ea2"
      },
      "outputs": [
        {
          "name": "stdout",
          "output_type": "stream",
          "text": [
            "\r0% [Working]\r            \rHit:1 http://archive.ubuntu.com/ubuntu bionic InRelease\n",
            "\r0% [Waiting for headers] [Connecting to security.ubuntu.com] [Connected to clou\r                                                                               \rGet:2 http://archive.ubuntu.com/ubuntu bionic-updates InRelease [88.7 kB]\n",
            "\r0% [2 InRelease 15.6 kB/88.7 kB 18%] [Connecting to security.ubuntu.com (185.12\r0% [1 InRelease gpgv 242 kB] [2 InRelease 15.6 kB/88.7 kB 18%] [Connecting to s\r                                                                               \rGet:3 https://cloud.r-project.org/bin/linux/ubuntu bionic-cran40/ InRelease [3,626 B]\n",
            "\r0% [1 InRelease gpgv 242 kB] [2 InRelease 38.8 kB/88.7 kB 44%] [Connecting to s\r0% [1 InRelease gpgv 242 kB] [2 InRelease 38.8 kB/88.7 kB 44%] [Connecting to s\r0% [1 InRelease gpgv 242 kB] [Waiting for headers] [Connecting to security.ubun\r                                                                               \rGet:4 http://archive.ubuntu.com/ubuntu bionic-backports InRelease [74.6 kB]\n",
            "\r0% [1 InRelease gpgv 242 kB] [4 InRelease 2,604 B/74.6 kB 3%] [Waiting for head\r0% [1 InRelease gpgv 242 kB] [Waiting for headers] [Waiting for headers] [Waiti\r                                                                               \rGet:5 http://ppa.launchpad.net/c2d4u.team/c2d4u4.0+/ubuntu bionic InRelease [15.9 kB]\n",
            "Get:6 http://security.ubuntu.com/ubuntu bionic-security InRelease [88.7 kB]\n",
            "Ign:7 https://developer.download.nvidia.com/compute/machine-learning/repos/ubuntu1804/x86_64  InRelease\n",
            "Get:8 https://developer.download.nvidia.com/compute/cuda/repos/ubuntu1804/x86_64  InRelease [1,581 B]\n",
            "Hit:9 https://developer.download.nvidia.com/compute/machine-learning/repos/ubuntu1804/x86_64  Release\n",
            "Hit:10 http://ppa.launchpad.net/cran/libgit2/ubuntu bionic InRelease\n",
            "Hit:11 http://ppa.launchpad.net/deadsnakes/ppa/ubuntu bionic InRelease\n",
            "Get:12 https://cloud.r-project.org/bin/linux/ubuntu bionic-cran40/ Packages [91.1 kB]\n",
            "Hit:13 http://ppa.launchpad.net/graphics-drivers/ppa/ubuntu bionic InRelease\n",
            "Get:14 http://archive.ubuntu.com/ubuntu bionic-updates/universe amd64 Packages [2,311 kB]\n",
            "Get:15 http://archive.ubuntu.com/ubuntu bionic-updates/main amd64 Packages [3,369 kB]\n",
            "Get:16 https://developer.download.nvidia.com/compute/cuda/repos/ubuntu1804/x86_64  Packages [912 kB]\n",
            "Get:17 http://ppa.launchpad.net/c2d4u.team/c2d4u4.0+/ubuntu bionic/main Sources [2,093 kB]\n",
            "Get:19 http://security.ubuntu.com/ubuntu bionic-security/universe amd64 Packages [1,534 kB]\n",
            "Get:20 http://ppa.launchpad.net/c2d4u.team/c2d4u4.0+/ubuntu bionic/main amd64 Packages [1,073 kB]\n",
            "Get:21 http://security.ubuntu.com/ubuntu bionic-security/main amd64 Packages [2,938 kB]\n",
            "Fetched 14.6 MB in 4s (3,951 kB/s)\n",
            "Reading package lists... Done\n",
            "Reading package lists... Done\n",
            "Building dependency tree       \n",
            "Reading state information... Done\n",
            "python3.9 is already the newest version (3.9.13-1+bionic1).\n",
            "The following package was automatically installed and is no longer required:\n",
            "  libnvidia-common-460\n",
            "Use 'sudo apt autoremove' to remove it.\n",
            "0 upgraded, 0 newly installed, 0 to remove and 27 not upgraded.\n"
          ]
        }
      ],
      "source": [
        "!sudo apt-get update -y\n",
        "!sudo apt-get install python3.9"
      ]
    },
    {
      "cell_type": "code",
      "execution_count": 7,
      "metadata": {
        "colab": {
          "base_uri": "https://localhost:8080/"
        },
        "id": "7GgeSjEC9ebu",
        "outputId": "1d934ef6-c44b-4c2a-d937-5bee44aedd6b"
      },
      "outputs": [
        {
          "name": "stdout",
          "output_type": "stream",
          "text": [
            "update-alternatives: using /usr/bin/python3.9 to provide /usr/bin/python3 (python3) in auto mode\n"
          ]
        }
      ],
      "source": [
        "!sudo update-alternatives --install /usr/bin/python3 python3 /usr/bin/python3.7 1\n",
        "!sudo update-alternatives --install /usr/bin/python3 python3 /usr/bin/python3.9 2"
      ]
    },
    {
      "cell_type": "markdown",
      "metadata": {
        "id": "_ZBOE7CTr4zx"
      },
      "source": [
        "# Load Requirements"
      ]
    },
    {
      "cell_type": "markdown",
      "metadata": {
        "id": "FAfZpATPFS4u"
      },
      "source": [
        "### Library and Gdrive"
      ]
    },
    {
      "cell_type": "code",
      "execution_count": 9,
      "metadata": {
        "id": "Z6GMn9dvGjyA"
      },
      "outputs": [],
      "source": [
        "import tensorflow as tf\n",
        "from tensorflow.keras import models, layers\n",
        "from tensorflow.keras.layers import Dense, BatchNormalization, Conv2D, MaxPooling2D\n",
        "\n",
        "import matplotlib.pyplot as plt\n",
        "import cv2\n",
        "import os\n",
        "import pandas as pd\n",
        "import numpy as np\n",
        "from google.colab import output\n",
        "import time\n",
        "from IPython.display import HTML, display\n",
        "from keras.preprocessing.image import ImageDataGenerator\n"
      ]
    },
    {
      "cell_type": "markdown",
      "metadata": {
        "id": "eJF19_9pkj7r"
      },
      "source": [
        "Mount Google Drive"
      ]
    },
    {
      "cell_type": "code",
      "execution_count": 10,
      "metadata": {
        "colab": {
          "base_uri": "https://localhost:8080/"
        },
        "id": "baFY95oTJ-1F",
        "outputId": "4882854c-8001-45b3-e3d8-24987452e799"
      },
      "outputs": [
        {
          "name": "stdout",
          "output_type": "stream",
          "text": [
            "Mounted at /content/drive\n"
          ]
        }
      ],
      "source": [
        "from google.colab import drive\n",
        "drive.mount('/content/drive')"
      ]
    },
    {
      "cell_type": "code",
      "execution_count": null,
      "metadata": {
        "id": "YQqSlfmEGjyD"
      },
      "outputs": [],
      "source": [
        "BATCH_SIZE = 32\n",
        "IMAGE_SIZE = 256\n",
        "CHANNELS=3\n",
        "EPOCHS=50"
      ]
    },
    {
      "cell_type": "code",
      "execution_count": null,
      "metadata": {
        "id": "KUdk_Qf9yIsf"
      },
      "outputs": [],
      "source": [
        "train_dir = '/content/drive/MyDrive/PlantVillage/TrainLeaves2/'\n",
        "test_dir = '/content/drive/MyDrive/PlantVillage/TestLeaves2/'\n",
        "\n",
        "# train_dir = 'D:/document/FEU/PlantVillage/Train/'"
      ]
    },
    {
      "cell_type": "code",
      "execution_count": null,
      "metadata": {
        "id": "ZGGhh1LTQhBt"
      },
      "outputs": [],
      "source": []
    },
    {
      "cell_type": "code",
      "execution_count": null,
      "metadata": {
        "id": "D8_s71vlGjyF"
      },
      "outputs": [],
      "source": [
        "# dataset = tf.keras.preprocessing.image_dataset_from_directory(\n",
        "#     \"/content/drive/MyDrive/PlantVillage/Train/\",\n",
        "#     seed=123,\n",
        "#     # shuffle=false,\n",
        "#     image_size=(IMAGE_SIZE,IMAGE_SIZE),\n",
        "#     batch_size=BATCH_SIZE\n",
        "# )\n",
        "# dataset.class_names"
      ]
    },
    {
      "cell_type": "code",
      "execution_count": 13,
      "metadata": {
        "id": "PAR7GSLEGjyK"
      },
      "outputs": [],
      "source": [
        "class_names = [\n",
        "  'Basella Alba (Basale)',\n",
        "  'Muntingia Calabura (Jamaica Cherry-Gasagase)',\n",
        "  'Plectranthus Amboinicus (Mexican Mint)',\n",
        "  'Pongamia Pinnata (Indian Beech)',\n",
        "  'Psidium Guajava (Guava)',\n",
        "  'Syzygium Jambos (Rose Apple)',\n",
        "  'ipil-ipil',\n",
        "]"
      ]
    },
    {
      "cell_type": "markdown",
      "metadata": {
        "id": "LjALJfTEOvmC"
      },
      "source": [
        "### Morphological Mask"
      ]
    },
    {
      "cell_type": "code",
      "execution_count": 11,
      "metadata": {
        "id": "xni9zX11vvGM"
      },
      "outputs": [],
      "source": [
        "from skimage.feature import hessian_matrix, hessian_matrix_eigvals\n",
        "from google.colab.patches import cv2_imshow\n",
        "\n",
        "def morphologicalMasking(image):\n",
        "    processImg = segment_image(image)\n",
        "    processImg = sharpen_image(processImg)\n",
        "    processImg = cv2.cvtColor(processImg,cv2.COLOR_RGB2GRAY)\n",
        "    processImg = cv2.threshold(processImg, 128, 255, cv2.THRESH_BINARY)[1]\n",
        "    processImg = np.reshape(processImg,(256,256,1))\n",
        "    return processImg\n",
        "\n",
        "def create_mask_for_image(image):\n",
        "    '''\n",
        "    Utility Function to create segmented morphological masks\n",
        "    '''\n",
        "    image_hsv = cv2.cvtColor(image, cv2.COLOR_BGR2HSV)\n",
        "\n",
        "    lower_hsv = np.array([20, 40, 0])\n",
        "    upper_hsv = np.array([95, 255, 255])\n",
        "\n",
        "    mask = cv2.inRange(image_hsv, lower_hsv, upper_hsv)\n",
        "    # kernel = cv2.getStructuringElement(cv2.MORPH_ELLIPSE, (11,11))\n",
        "    kernel = cv2.getStructuringElement(cv2.MORPH_ELLIPSE, (2,2))\n",
        "    mask = cv2.morphologyEx(mask, cv2.MORPH_CLOSE, kernel)\n",
        "    \n",
        "    return mask\n",
        "\n",
        "\n",
        "def segment_image(image):\n",
        "    '''\n",
        "    Utility Function to apply segmented morphological masks\n",
        "    '''\n",
        "    mask = create_mask_for_image(image)\n",
        "    output = cv2.bitwise_and(image, image, mask = mask)\n",
        "    return output\n",
        " \n",
        "def sharpen_image(image):\n",
        "    '''\n",
        "    Utility Function to sharpen processed images\n",
        "    '''\n",
        "    image_blurred = cv2.GaussianBlur(image, (0, 0), 3)\n",
        "    # image_sharp = cv2.addWeighted(image, 1.5, image_blurred, 25.2, 0)\n",
        "    image_sharp = cv2.addWeighted(image, 1.5, image_blurred, 2, 0)\n",
        "    return image_sharp\n",
        "def increase_brightness(img, value=100):\n",
        "    hsv = cv2.cvtColor(img, cv2.COLOR_BGR2HSV)\n",
        "    h, s, v = cv2.split(hsv)\n",
        "\n",
        "    lim = 255 - value\n",
        "    v[v > lim] = 255\n",
        "    v[v <= lim] += value\n",
        "\n",
        "    final_hsv = cv2.merge((h, s, v))\n",
        "    img = cv2.cvtColor(final_hsv, cv2.COLOR_HSV2BGR)\n",
        "    return img\n",
        "# def convertImage(image):\n",
        "#     h, w, c = image.shape\n",
        "#     # append Alpha channel -- required for BGRA (Blue, Green, Red, Alpha)\n",
        "#     image_bgra = np.concatenate([image, np.full((h, w, 1), 255, dtype=np.uint8)], axis=-1)\n",
        "#     # create a mask where white pixels ([255, 255, 255]) are True\n",
        "#     white = np.all(image == [255, 255, 255], axis=-1)\n",
        "#     # change the values of Alpha to 0 for all the white pixels\n",
        "#     image_bgra[white, -1] = 0\n",
        "#     return np.array(image_bgra)\n",
        "def convertImage(alpha):\n",
        "    h, w = alpha.shape\n",
        "    img = np.ones([h, w, 4], np.uint8) * (0, 0, 0, 255)\n",
        "    img[:,:,3] = alpha\n",
        "    return np.array(img)\n",
        "\n",
        "    \n",
        "\n",
        "def detect_ridges(image, sigma=1.0):\n",
        "    grayscale_image =cv2.cvtColor(image,cv2.COLOR_RGB2GRAY)\n",
        "    ridge_filter = cv2.ximgproc.RidgeDetectionFilter_create(ddepth=cv2.CV_32FC1,ksize=5,scale=0.03)\n",
        "    ridges = ridge_filter.getRidgeFilteredImage(grayscale_image)\n",
        "    ridges = cv2.bitwise_not(ridges)\n",
        "    ridges = cv2.cvtColor(ridges,cv2.COLOR_GRAY2RGBA)\n",
        "    # ridges = convertImage(ridges)\n",
        "    return ridges\n",
        "\n",
        "def plot_images(*images,isRandom=True):\n",
        "    plt.figure(figsize=(20, 10))\n",
        "    n = len(images)\n",
        "    if(n > 12):\n",
        "      n = 12\n",
        "    for i in range(n):\n",
        "      rand = i\n",
        "      if isRandom:\n",
        "        rand=np.random.randint(0, n)\n",
        "      ax = plt.subplot(3, 4, i + 1)\n",
        "      plt.imshow(cv2.cvtColor(images[rand], cv2.COLOR_BGR2RGBA))\n",
        "\n",
        "\n",
        "      plt.axis(\"off\")\n",
        "\n",
        "def rgba2rgb( rgba, background=(255,255,255) ):\n",
        "    row, col, ch = rgba.shape\n",
        "\n",
        "    if ch == 3:\n",
        "        return rgba\n",
        "\n",
        "    assert ch == 4, 'RGBA image has 4 channels.'\n",
        "\n",
        "    rgb = np.zeros( (row, col, 3), dtype='float32' )\n",
        "    r, g, b, a = rgba[:,:,0], rgba[:,:,1], rgba[:,:,2], rgba[:,:,3]\n",
        "\n",
        "    a = np.asarray( a, dtype='float32' ) / 255.0\n",
        "\n",
        "    R, G, B = background\n",
        "\n",
        "    rgb[:,:,0] = r * a + (1.0 - a) * R\n",
        "    rgb[:,:,1] = g * a + (1.0 - a) * G\n",
        "    rgb[:,:,2] = b * a + (1.0 - a) * B\n",
        "\n",
        "    return np.asarray( rgb, dtype='uint8' )\n",
        "\n",
        "def overlay(background, foreground):\n",
        "    # normalize alpha channels from 0-255 to 0-1\n",
        "    alpha_background = background[:,:,3] / 255.0\n",
        "    alpha_foreground = foreground[:,:,3] / 255.0\n",
        "\n",
        "    # set adjusted colors\n",
        "    for color in range(0, 3):\n",
        "        background[:,:,color] = alpha_foreground * foreground[:,:,color] + \\\n",
        "            alpha_background * background[:,:,color] * (1 - alpha_foreground)\n",
        "\n",
        "    # set adjusted alpha and denormalize back to 0-255\n",
        "    background[:,:,3] = (1 - (1 - alpha_foreground) * (1 - alpha_background)) * 255\n",
        "    return background\n",
        "\n",
        "def removeBlurr(img):\n",
        "\n",
        "  # grayscale\n",
        "  gray = cv2.cvtColor(img, cv2.COLOR_BGR2GRAY)\n",
        "\n",
        "  # canny\n",
        "  canned = cv2.Canny(gray, 100, 200)\n",
        "\n",
        "  # dilate to close holes in lines\n",
        "  kernel = np.ones((5,5),np.uint8)\n",
        "  mask = cv2.dilate(canned, kernel, iterations = 1)\n",
        "\n",
        "  # find contours\n",
        "  # Opencv 3.4, if using a different major version (4.0 or 2.0), remove the first underscore\n",
        "  contours, _ = cv2.findContours(mask, cv2.RETR_TREE, cv2.CHAIN_APPROX_SIMPLE)\n",
        "  if not contours:\n",
        "      return None\n",
        "  # find big contours\n",
        "  biggest_cntr = None\n",
        "  biggest_area = 0\n",
        "  for contour in contours:\n",
        "      area = cv2.contourArea(contour)\n",
        "      if area > biggest_area:\n",
        "          biggest_area = area\n",
        "          biggest_cntr = contour\n",
        "\n",
        "  # draw contours\n",
        "  crop_mask = np.zeros_like(mask)\n",
        "  cv2.drawContours(crop_mask, [biggest_cntr], -1, (255), -1)\n",
        "\n",
        "  # fill in holes\n",
        "  # inverted\n",
        "  inverted = cv2.bitwise_not(crop_mask)\n",
        "\n",
        "  # contours again\n",
        "  contours, _ = cv2.findContours(inverted, cv2.RETR_TREE, cv2.CHAIN_APPROX_SIMPLE)\n",
        "  if not contours:\n",
        "      return None\n",
        "  # find small contours\n",
        "  small_cntrs = []\n",
        "  for contour in contours:\n",
        "      area = cv2.contourArea(contour)\n",
        "      if area < 20000:\n",
        "          small_cntrs.append(contour)\n",
        "\n",
        "  # draw on mask\n",
        "  cv2.drawContours(crop_mask, small_cntrs, -1, (255), -1)\n",
        "\n",
        "  # opening + median blur to smooth jaggies\n",
        "  crop_mask = cv2.erode(crop_mask, kernel, iterations = 1)\n",
        "  crop_mask = cv2.dilate(crop_mask, kernel, iterations = 1)\n",
        "  crop_mask = cv2.medianBlur(crop_mask, 5)\n",
        "\n",
        "  # crop image\n",
        "  crop = np.zeros_like(img)\n",
        "  crop[crop_mask == 255] = img[crop_mask == 255]\n",
        "\n",
        "  # show\n",
        "  # cv2_imshow(img);\n",
        "  # cv2_imshow(gray);\n",
        "  # cv2_imshow(canned);\n",
        "  # cv2_imshow(crop_mask);\n",
        "  # cv2_imshow(crop);\n",
        "  # cv2.waitKey(0);\n",
        "  return crop"
      ]
    },
    {
      "cell_type": "markdown",
      "metadata": {
        "id": "fnqlF0_Qrn8q"
      },
      "source": [
        "\n",
        "### Create Dataframe for file location"
      ]
    },
    {
      "cell_type": "code",
      "execution_count": null,
      "metadata": {
        "colab": {
          "base_uri": "https://localhost:8080/",
          "height": 2414
        },
        "id": "7zKpeTwCyYjw",
        "outputId": "1f558cae-bf62-47a7-e585-509e2249ad20"
      },
      "outputs": [
        {
          "name": "stdout",
          "output_type": "stream",
          "text": [
            "Training Data Shape:  (388, 3)\n"
          ]
        },
        {
          "data": {
            "text/html": [
              "\n",
              "  <div id=\"df-9c931223-5576-4d8d-86a3-2b086c713c0e\">\n",
              "    <div class=\"colab-df-container\">\n",
              "      <div>\n",
              "<style scoped>\n",
              "    .dataframe tbody tr th:only-of-type {\n",
              "        vertical-align: middle;\n",
              "    }\n",
              "\n",
              "    .dataframe tbody tr th {\n",
              "        vertical-align: top;\n",
              "    }\n",
              "\n",
              "    .dataframe thead th {\n",
              "        text-align: right;\n",
              "    }\n",
              "</style>\n",
              "<table border=\"1\" class=\"dataframe\">\n",
              "  <thead>\n",
              "    <tr style=\"text-align: right;\">\n",
              "      <th></th>\n",
              "      <th>file</th>\n",
              "      <th>species_num</th>\n",
              "      <th>species</th>\n",
              "    </tr>\n",
              "  </thead>\n",
              "  <tbody>\n",
              "    <tr>\n",
              "      <th>0</th>\n",
              "      <td>/content/drive/MyDrive/PlantVillage/TrainLeave...</td>\n",
              "      <td>0</td>\n",
              "      <td>Basella Alba (Basale)</td>\n",
              "    </tr>\n",
              "    <tr>\n",
              "      <th>1</th>\n",
              "      <td>/content/drive/MyDrive/PlantVillage/TrainLeave...</td>\n",
              "      <td>0</td>\n",
              "      <td>Basella Alba (Basale)</td>\n",
              "    </tr>\n",
              "    <tr>\n",
              "      <th>2</th>\n",
              "      <td>/content/drive/MyDrive/PlantVillage/TrainLeave...</td>\n",
              "      <td>0</td>\n",
              "      <td>Basella Alba (Basale)</td>\n",
              "    </tr>\n",
              "    <tr>\n",
              "      <th>3</th>\n",
              "      <td>/content/drive/MyDrive/PlantVillage/TrainLeave...</td>\n",
              "      <td>0</td>\n",
              "      <td>Basella Alba (Basale)</td>\n",
              "    </tr>\n",
              "    <tr>\n",
              "      <th>4</th>\n",
              "      <td>/content/drive/MyDrive/PlantVillage/TrainLeave...</td>\n",
              "      <td>0</td>\n",
              "      <td>Basella Alba (Basale)</td>\n",
              "    </tr>\n",
              "    <tr>\n",
              "      <th>...</th>\n",
              "      <td>...</td>\n",
              "      <td>...</td>\n",
              "      <td>...</td>\n",
              "    </tr>\n",
              "    <tr>\n",
              "      <th>383</th>\n",
              "      <td>/content/drive/MyDrive/PlantVillage/TrainLeave...</td>\n",
              "      <td>5</td>\n",
              "      <td>Syzygium Jambos (Rose Apple)</td>\n",
              "    </tr>\n",
              "    <tr>\n",
              "      <th>384</th>\n",
              "      <td>/content/drive/MyDrive/PlantVillage/TrainLeave...</td>\n",
              "      <td>5</td>\n",
              "      <td>Syzygium Jambos (Rose Apple)</td>\n",
              "    </tr>\n",
              "    <tr>\n",
              "      <th>385</th>\n",
              "      <td>/content/drive/MyDrive/PlantVillage/TrainLeave...</td>\n",
              "      <td>5</td>\n",
              "      <td>Syzygium Jambos (Rose Apple)</td>\n",
              "    </tr>\n",
              "    <tr>\n",
              "      <th>386</th>\n",
              "      <td>/content/drive/MyDrive/PlantVillage/TrainLeave...</td>\n",
              "      <td>5</td>\n",
              "      <td>Syzygium Jambos (Rose Apple)</td>\n",
              "    </tr>\n",
              "    <tr>\n",
              "      <th>387</th>\n",
              "      <td>/content/drive/MyDrive/PlantVillage/TrainLeave...</td>\n",
              "      <td>5</td>\n",
              "      <td>Syzygium Jambos (Rose Apple)</td>\n",
              "    </tr>\n",
              "  </tbody>\n",
              "</table>\n",
              "<p>388 rows × 3 columns</p>\n",
              "</div>\n",
              "      <button class=\"colab-df-convert\" onclick=\"convertToInteractive('df-9c931223-5576-4d8d-86a3-2b086c713c0e')\"\n",
              "              title=\"Convert this dataframe to an interactive table.\"\n",
              "              style=\"display:none;\">\n",
              "        \n",
              "  <svg xmlns=\"http://www.w3.org/2000/svg\" height=\"24px\"viewBox=\"0 0 24 24\"\n",
              "       width=\"24px\">\n",
              "    <path d=\"M0 0h24v24H0V0z\" fill=\"none\"/>\n",
              "    <path d=\"M18.56 5.44l.94 2.06.94-2.06 2.06-.94-2.06-.94-.94-2.06-.94 2.06-2.06.94zm-11 1L8.5 8.5l.94-2.06 2.06-.94-2.06-.94L8.5 2.5l-.94 2.06-2.06.94zm10 10l.94 2.06.94-2.06 2.06-.94-2.06-.94-.94-2.06-.94 2.06-2.06.94z\"/><path d=\"M17.41 7.96l-1.37-1.37c-.4-.4-.92-.59-1.43-.59-.52 0-1.04.2-1.43.59L10.3 9.45l-7.72 7.72c-.78.78-.78 2.05 0 2.83L4 21.41c.39.39.9.59 1.41.59.51 0 1.02-.2 1.41-.59l7.78-7.78 2.81-2.81c.8-.78.8-2.07 0-2.86zM5.41 20L4 18.59l7.72-7.72 1.47 1.35L5.41 20z\"/>\n",
              "  </svg>\n",
              "      </button>\n",
              "      \n",
              "  <style>\n",
              "    .colab-df-container {\n",
              "      display:flex;\n",
              "      flex-wrap:wrap;\n",
              "      gap: 12px;\n",
              "    }\n",
              "\n",
              "    .colab-df-convert {\n",
              "      background-color: #E8F0FE;\n",
              "      border: none;\n",
              "      border-radius: 50%;\n",
              "      cursor: pointer;\n",
              "      display: none;\n",
              "      fill: #1967D2;\n",
              "      height: 32px;\n",
              "      padding: 0 0 0 0;\n",
              "      width: 32px;\n",
              "    }\n",
              "\n",
              "    .colab-df-convert:hover {\n",
              "      background-color: #E2EBFA;\n",
              "      box-shadow: 0px 1px 2px rgba(60, 64, 67, 0.3), 0px 1px 3px 1px rgba(60, 64, 67, 0.15);\n",
              "      fill: #174EA6;\n",
              "    }\n",
              "\n",
              "    [theme=dark] .colab-df-convert {\n",
              "      background-color: #3B4455;\n",
              "      fill: #D2E3FC;\n",
              "    }\n",
              "\n",
              "    [theme=dark] .colab-df-convert:hover {\n",
              "      background-color: #434B5C;\n",
              "      box-shadow: 0px 1px 3px 1px rgba(0, 0, 0, 0.15);\n",
              "      filter: drop-shadow(0px 1px 2px rgba(0, 0, 0, 0.3));\n",
              "      fill: #FFFFFF;\n",
              "    }\n",
              "  </style>\n",
              "\n",
              "      <script>\n",
              "        const buttonEl =\n",
              "          document.querySelector('#df-9c931223-5576-4d8d-86a3-2b086c713c0e button.colab-df-convert');\n",
              "        buttonEl.style.display =\n",
              "          google.colab.kernel.accessAllowed ? 'block' : 'none';\n",
              "\n",
              "        async function convertToInteractive(key) {\n",
              "          const element = document.querySelector('#df-9c931223-5576-4d8d-86a3-2b086c713c0e');\n",
              "          const dataTable =\n",
              "            await google.colab.kernel.invokeFunction('convertToInteractive',\n",
              "                                                     [key], {});\n",
              "          if (!dataTable) return;\n",
              "\n",
              "          const docLinkHtml = 'Like what you see? Visit the ' +\n",
              "            '<a target=\"_blank\" href=https://colab.research.google.com/notebooks/data_table.ipynb>data table notebook</a>'\n",
              "            + ' to learn more about interactive tables.';\n",
              "          element.innerHTML = '';\n",
              "          dataTable['output_type'] = 'display_data';\n",
              "          await google.colab.output.renderOutput(dataTable, element);\n",
              "          const docLink = document.createElement('div');\n",
              "          docLink.innerHTML = docLinkHtml;\n",
              "          element.appendChild(docLink);\n",
              "        }\n",
              "      </script>\n",
              "    </div>\n",
              "  </div>\n",
              "  "
            ],
            "text/plain": [
              "                                                  file  species_num  \\\n",
              "0    /content/drive/MyDrive/PlantVillage/TrainLeave...            0   \n",
              "1    /content/drive/MyDrive/PlantVillage/TrainLeave...            0   \n",
              "2    /content/drive/MyDrive/PlantVillage/TrainLeave...            0   \n",
              "3    /content/drive/MyDrive/PlantVillage/TrainLeave...            0   \n",
              "4    /content/drive/MyDrive/PlantVillage/TrainLeave...            0   \n",
              "..                                                 ...          ...   \n",
              "383  /content/drive/MyDrive/PlantVillage/TrainLeave...            5   \n",
              "384  /content/drive/MyDrive/PlantVillage/TrainLeave...            5   \n",
              "385  /content/drive/MyDrive/PlantVillage/TrainLeave...            5   \n",
              "386  /content/drive/MyDrive/PlantVillage/TrainLeave...            5   \n",
              "387  /content/drive/MyDrive/PlantVillage/TrainLeave...            5   \n",
              "\n",
              "                          species  \n",
              "0           Basella Alba (Basale)  \n",
              "1           Basella Alba (Basale)  \n",
              "2           Basella Alba (Basale)  \n",
              "3           Basella Alba (Basale)  \n",
              "4           Basella Alba (Basale)  \n",
              "..                            ...  \n",
              "383  Syzygium Jambos (Rose Apple)  \n",
              "384  Syzygium Jambos (Rose Apple)  \n",
              "385  Syzygium Jambos (Rose Apple)  \n",
              "386  Syzygium Jambos (Rose Apple)  \n",
              "387  Syzygium Jambos (Rose Apple)  \n",
              "\n",
              "[388 rows x 3 columns]"
            ]
          },
          "execution_count": 6,
          "metadata": {},
          "output_type": "execute_result"
        }
      ],
      "source": [
        "train = []\n",
        "SPECIES = class_names\n",
        "\n",
        "for species_num, species in enumerate(SPECIES):\n",
        "    for count, file in enumerate(os.listdir(os.path.join(train_dir, species + '/'))):\n",
        "          train.append([train_dir + '/{}/{}'.format(species, file), species_num, species])\n",
        "train_df = pd.DataFrame(train, columns=['file', 'species_num', 'species'])\n",
        "\n",
        "print('Training Data Shape: ',train_df.shape)\n",
        "train_df"
      ]
    },
    {
      "cell_type": "code",
      "execution_count": null,
      "metadata": {
        "colab": {
          "base_uri": "https://localhost:8080/",
          "height": 1000
        },
        "id": "572WgwEX4e9N",
        "outputId": "954f9866-ef20-4f22-ddf3-45de45ff933d"
      },
      "outputs": [
        {
          "name": "stdout",
          "output_type": "stream",
          "text": [
            "Training Data Shape:  (51, 3)\n"
          ]
        },
        {
          "data": {
            "text/html": [
              "\n",
              "  <div id=\"df-ce2df206-54bd-46e2-ad33-0563019f469f\">\n",
              "    <div class=\"colab-df-container\">\n",
              "      <div>\n",
              "<style scoped>\n",
              "    .dataframe tbody tr th:only-of-type {\n",
              "        vertical-align: middle;\n",
              "    }\n",
              "\n",
              "    .dataframe tbody tr th {\n",
              "        vertical-align: top;\n",
              "    }\n",
              "\n",
              "    .dataframe thead th {\n",
              "        text-align: right;\n",
              "    }\n",
              "</style>\n",
              "<table border=\"1\" class=\"dataframe\">\n",
              "  <thead>\n",
              "    <tr style=\"text-align: right;\">\n",
              "      <th></th>\n",
              "      <th>file</th>\n",
              "      <th>species_num</th>\n",
              "      <th>species</th>\n",
              "    </tr>\n",
              "  </thead>\n",
              "  <tbody>\n",
              "    <tr>\n",
              "      <th>0</th>\n",
              "      <td>/content/drive/MyDrive/PlantVillage/TestLeaves...</td>\n",
              "      <td>0</td>\n",
              "      <td>Basella Alba (Basale)</td>\n",
              "    </tr>\n",
              "    <tr>\n",
              "      <th>1</th>\n",
              "      <td>/content/drive/MyDrive/PlantVillage/TestLeaves...</td>\n",
              "      <td>0</td>\n",
              "      <td>Basella Alba (Basale)</td>\n",
              "    </tr>\n",
              "    <tr>\n",
              "      <th>2</th>\n",
              "      <td>/content/drive/MyDrive/PlantVillage/TestLeaves...</td>\n",
              "      <td>0</td>\n",
              "      <td>Basella Alba (Basale)</td>\n",
              "    </tr>\n",
              "    <tr>\n",
              "      <th>3</th>\n",
              "      <td>/content/drive/MyDrive/PlantVillage/TestLeaves...</td>\n",
              "      <td>0</td>\n",
              "      <td>Basella Alba (Basale)</td>\n",
              "    </tr>\n",
              "    <tr>\n",
              "      <th>4</th>\n",
              "      <td>/content/drive/MyDrive/PlantVillage/TestLeaves...</td>\n",
              "      <td>0</td>\n",
              "      <td>Basella Alba (Basale)</td>\n",
              "    </tr>\n",
              "    <tr>\n",
              "      <th>5</th>\n",
              "      <td>/content/drive/MyDrive/PlantVillage/TestLeaves...</td>\n",
              "      <td>0</td>\n",
              "      <td>Basella Alba (Basale)</td>\n",
              "    </tr>\n",
              "    <tr>\n",
              "      <th>6</th>\n",
              "      <td>/content/drive/MyDrive/PlantVillage/TestLeaves...</td>\n",
              "      <td>0</td>\n",
              "      <td>Basella Alba (Basale)</td>\n",
              "    </tr>\n",
              "    <tr>\n",
              "      <th>7</th>\n",
              "      <td>/content/drive/MyDrive/PlantVillage/TestLeaves...</td>\n",
              "      <td>0</td>\n",
              "      <td>Basella Alba (Basale)</td>\n",
              "    </tr>\n",
              "    <tr>\n",
              "      <th>8</th>\n",
              "      <td>/content/drive/MyDrive/PlantVillage/TestLeaves...</td>\n",
              "      <td>0</td>\n",
              "      <td>Basella Alba (Basale)</td>\n",
              "    </tr>\n",
              "    <tr>\n",
              "      <th>9</th>\n",
              "      <td>/content/drive/MyDrive/PlantVillage/TestLeaves...</td>\n",
              "      <td>0</td>\n",
              "      <td>Basella Alba (Basale)</td>\n",
              "    </tr>\n",
              "    <tr>\n",
              "      <th>10</th>\n",
              "      <td>/content/drive/MyDrive/PlantVillage/TestLeaves...</td>\n",
              "      <td>0</td>\n",
              "      <td>Basella Alba (Basale)</td>\n",
              "    </tr>\n",
              "    <tr>\n",
              "      <th>11</th>\n",
              "      <td>/content/drive/MyDrive/PlantVillage/TestLeaves...</td>\n",
              "      <td>0</td>\n",
              "      <td>Basella Alba (Basale)</td>\n",
              "    </tr>\n",
              "    <tr>\n",
              "      <th>12</th>\n",
              "      <td>/content/drive/MyDrive/PlantVillage/TestLeaves...</td>\n",
              "      <td>0</td>\n",
              "      <td>Basella Alba (Basale)</td>\n",
              "    </tr>\n",
              "    <tr>\n",
              "      <th>13</th>\n",
              "      <td>/content/drive/MyDrive/PlantVillage/TestLeaves...</td>\n",
              "      <td>0</td>\n",
              "      <td>Basella Alba (Basale)</td>\n",
              "    </tr>\n",
              "    <tr>\n",
              "      <th>14</th>\n",
              "      <td>/content/drive/MyDrive/PlantVillage/TestLeaves...</td>\n",
              "      <td>1</td>\n",
              "      <td>Muntingia Calabura (Jamaica Cherry-Gasagase)</td>\n",
              "    </tr>\n",
              "    <tr>\n",
              "      <th>15</th>\n",
              "      <td>/content/drive/MyDrive/PlantVillage/TestLeaves...</td>\n",
              "      <td>1</td>\n",
              "      <td>Muntingia Calabura (Jamaica Cherry-Gasagase)</td>\n",
              "    </tr>\n",
              "    <tr>\n",
              "      <th>16</th>\n",
              "      <td>/content/drive/MyDrive/PlantVillage/TestLeaves...</td>\n",
              "      <td>1</td>\n",
              "      <td>Muntingia Calabura (Jamaica Cherry-Gasagase)</td>\n",
              "    </tr>\n",
              "    <tr>\n",
              "      <th>17</th>\n",
              "      <td>/content/drive/MyDrive/PlantVillage/TestLeaves...</td>\n",
              "      <td>1</td>\n",
              "      <td>Muntingia Calabura (Jamaica Cherry-Gasagase)</td>\n",
              "    </tr>\n",
              "    <tr>\n",
              "      <th>18</th>\n",
              "      <td>/content/drive/MyDrive/PlantVillage/TestLeaves...</td>\n",
              "      <td>1</td>\n",
              "      <td>Muntingia Calabura (Jamaica Cherry-Gasagase)</td>\n",
              "    </tr>\n",
              "    <tr>\n",
              "      <th>19</th>\n",
              "      <td>/content/drive/MyDrive/PlantVillage/TestLeaves...</td>\n",
              "      <td>1</td>\n",
              "      <td>Muntingia Calabura (Jamaica Cherry-Gasagase)</td>\n",
              "    </tr>\n",
              "    <tr>\n",
              "      <th>20</th>\n",
              "      <td>/content/drive/MyDrive/PlantVillage/TestLeaves...</td>\n",
              "      <td>3</td>\n",
              "      <td>Pongamia Pinnata (Indian Beech)</td>\n",
              "    </tr>\n",
              "    <tr>\n",
              "      <th>21</th>\n",
              "      <td>/content/drive/MyDrive/PlantVillage/TestLeaves...</td>\n",
              "      <td>3</td>\n",
              "      <td>Pongamia Pinnata (Indian Beech)</td>\n",
              "    </tr>\n",
              "    <tr>\n",
              "      <th>22</th>\n",
              "      <td>/content/drive/MyDrive/PlantVillage/TestLeaves...</td>\n",
              "      <td>3</td>\n",
              "      <td>Pongamia Pinnata (Indian Beech)</td>\n",
              "    </tr>\n",
              "    <tr>\n",
              "      <th>23</th>\n",
              "      <td>/content/drive/MyDrive/PlantVillage/TestLeaves...</td>\n",
              "      <td>3</td>\n",
              "      <td>Pongamia Pinnata (Indian Beech)</td>\n",
              "    </tr>\n",
              "    <tr>\n",
              "      <th>24</th>\n",
              "      <td>/content/drive/MyDrive/PlantVillage/TestLeaves...</td>\n",
              "      <td>3</td>\n",
              "      <td>Pongamia Pinnata (Indian Beech)</td>\n",
              "    </tr>\n",
              "    <tr>\n",
              "      <th>25</th>\n",
              "      <td>/content/drive/MyDrive/PlantVillage/TestLeaves...</td>\n",
              "      <td>3</td>\n",
              "      <td>Pongamia Pinnata (Indian Beech)</td>\n",
              "    </tr>\n",
              "    <tr>\n",
              "      <th>26</th>\n",
              "      <td>/content/drive/MyDrive/PlantVillage/TestLeaves...</td>\n",
              "      <td>3</td>\n",
              "      <td>Pongamia Pinnata (Indian Beech)</td>\n",
              "    </tr>\n",
              "    <tr>\n",
              "      <th>27</th>\n",
              "      <td>/content/drive/MyDrive/PlantVillage/TestLeaves...</td>\n",
              "      <td>3</td>\n",
              "      <td>Pongamia Pinnata (Indian Beech)</td>\n",
              "    </tr>\n",
              "    <tr>\n",
              "      <th>28</th>\n",
              "      <td>/content/drive/MyDrive/PlantVillage/TestLeaves...</td>\n",
              "      <td>3</td>\n",
              "      <td>Pongamia Pinnata (Indian Beech)</td>\n",
              "    </tr>\n",
              "    <tr>\n",
              "      <th>29</th>\n",
              "      <td>/content/drive/MyDrive/PlantVillage/TestLeaves...</td>\n",
              "      <td>3</td>\n",
              "      <td>Pongamia Pinnata (Indian Beech)</td>\n",
              "    </tr>\n",
              "    <tr>\n",
              "      <th>30</th>\n",
              "      <td>/content/drive/MyDrive/PlantVillage/TestLeaves...</td>\n",
              "      <td>3</td>\n",
              "      <td>Pongamia Pinnata (Indian Beech)</td>\n",
              "    </tr>\n",
              "    <tr>\n",
              "      <th>31</th>\n",
              "      <td>/content/drive/MyDrive/PlantVillage/TestLeaves...</td>\n",
              "      <td>4</td>\n",
              "      <td>Psidium Guajava (Guava)</td>\n",
              "    </tr>\n",
              "    <tr>\n",
              "      <th>32</th>\n",
              "      <td>/content/drive/MyDrive/PlantVillage/TestLeaves...</td>\n",
              "      <td>4</td>\n",
              "      <td>Psidium Guajava (Guava)</td>\n",
              "    </tr>\n",
              "    <tr>\n",
              "      <th>33</th>\n",
              "      <td>/content/drive/MyDrive/PlantVillage/TestLeaves...</td>\n",
              "      <td>4</td>\n",
              "      <td>Psidium Guajava (Guava)</td>\n",
              "    </tr>\n",
              "    <tr>\n",
              "      <th>34</th>\n",
              "      <td>/content/drive/MyDrive/PlantVillage/TestLeaves...</td>\n",
              "      <td>4</td>\n",
              "      <td>Psidium Guajava (Guava)</td>\n",
              "    </tr>\n",
              "    <tr>\n",
              "      <th>35</th>\n",
              "      <td>/content/drive/MyDrive/PlantVillage/TestLeaves...</td>\n",
              "      <td>4</td>\n",
              "      <td>Psidium Guajava (Guava)</td>\n",
              "    </tr>\n",
              "    <tr>\n",
              "      <th>36</th>\n",
              "      <td>/content/drive/MyDrive/PlantVillage/TestLeaves...</td>\n",
              "      <td>4</td>\n",
              "      <td>Psidium Guajava (Guava)</td>\n",
              "    </tr>\n",
              "    <tr>\n",
              "      <th>37</th>\n",
              "      <td>/content/drive/MyDrive/PlantVillage/TestLeaves...</td>\n",
              "      <td>4</td>\n",
              "      <td>Psidium Guajava (Guava)</td>\n",
              "    </tr>\n",
              "    <tr>\n",
              "      <th>38</th>\n",
              "      <td>/content/drive/MyDrive/PlantVillage/TestLeaves...</td>\n",
              "      <td>4</td>\n",
              "      <td>Psidium Guajava (Guava)</td>\n",
              "    </tr>\n",
              "    <tr>\n",
              "      <th>39</th>\n",
              "      <td>/content/drive/MyDrive/PlantVillage/TestLeaves...</td>\n",
              "      <td>4</td>\n",
              "      <td>Psidium Guajava (Guava)</td>\n",
              "    </tr>\n",
              "    <tr>\n",
              "      <th>40</th>\n",
              "      <td>/content/drive/MyDrive/PlantVillage/TestLeaves...</td>\n",
              "      <td>4</td>\n",
              "      <td>Psidium Guajava (Guava)</td>\n",
              "    </tr>\n",
              "    <tr>\n",
              "      <th>41</th>\n",
              "      <td>/content/drive/MyDrive/PlantVillage/TestLeaves...</td>\n",
              "      <td>4</td>\n",
              "      <td>Psidium Guajava (Guava)</td>\n",
              "    </tr>\n",
              "    <tr>\n",
              "      <th>42</th>\n",
              "      <td>/content/drive/MyDrive/PlantVillage/TestLeaves...</td>\n",
              "      <td>4</td>\n",
              "      <td>Psidium Guajava (Guava)</td>\n",
              "    </tr>\n",
              "    <tr>\n",
              "      <th>43</th>\n",
              "      <td>/content/drive/MyDrive/PlantVillage/TestLeaves...</td>\n",
              "      <td>4</td>\n",
              "      <td>Psidium Guajava (Guava)</td>\n",
              "    </tr>\n",
              "    <tr>\n",
              "      <th>44</th>\n",
              "      <td>/content/drive/MyDrive/PlantVillage/TestLeaves...</td>\n",
              "      <td>4</td>\n",
              "      <td>Psidium Guajava (Guava)</td>\n",
              "    </tr>\n",
              "    <tr>\n",
              "      <th>45</th>\n",
              "      <td>/content/drive/MyDrive/PlantVillage/TestLeaves...</td>\n",
              "      <td>5</td>\n",
              "      <td>Syzygium Jambos (Rose Apple)</td>\n",
              "    </tr>\n",
              "    <tr>\n",
              "      <th>46</th>\n",
              "      <td>/content/drive/MyDrive/PlantVillage/TestLeaves...</td>\n",
              "      <td>5</td>\n",
              "      <td>Syzygium Jambos (Rose Apple)</td>\n",
              "    </tr>\n",
              "    <tr>\n",
              "      <th>47</th>\n",
              "      <td>/content/drive/MyDrive/PlantVillage/TestLeaves...</td>\n",
              "      <td>5</td>\n",
              "      <td>Syzygium Jambos (Rose Apple)</td>\n",
              "    </tr>\n",
              "    <tr>\n",
              "      <th>48</th>\n",
              "      <td>/content/drive/MyDrive/PlantVillage/TestLeaves...</td>\n",
              "      <td>5</td>\n",
              "      <td>Syzygium Jambos (Rose Apple)</td>\n",
              "    </tr>\n",
              "    <tr>\n",
              "      <th>49</th>\n",
              "      <td>/content/drive/MyDrive/PlantVillage/TestLeaves...</td>\n",
              "      <td>5</td>\n",
              "      <td>Syzygium Jambos (Rose Apple)</td>\n",
              "    </tr>\n",
              "    <tr>\n",
              "      <th>50</th>\n",
              "      <td>/content/drive/MyDrive/PlantVillage/TestLeaves...</td>\n",
              "      <td>5</td>\n",
              "      <td>Syzygium Jambos (Rose Apple)</td>\n",
              "    </tr>\n",
              "  </tbody>\n",
              "</table>\n",
              "</div>\n",
              "      <button class=\"colab-df-convert\" onclick=\"convertToInteractive('df-ce2df206-54bd-46e2-ad33-0563019f469f')\"\n",
              "              title=\"Convert this dataframe to an interactive table.\"\n",
              "              style=\"display:none;\">\n",
              "        \n",
              "  <svg xmlns=\"http://www.w3.org/2000/svg\" height=\"24px\"viewBox=\"0 0 24 24\"\n",
              "       width=\"24px\">\n",
              "    <path d=\"M0 0h24v24H0V0z\" fill=\"none\"/>\n",
              "    <path d=\"M18.56 5.44l.94 2.06.94-2.06 2.06-.94-2.06-.94-.94-2.06-.94 2.06-2.06.94zm-11 1L8.5 8.5l.94-2.06 2.06-.94-2.06-.94L8.5 2.5l-.94 2.06-2.06.94zm10 10l.94 2.06.94-2.06 2.06-.94-2.06-.94-.94-2.06-.94 2.06-2.06.94z\"/><path d=\"M17.41 7.96l-1.37-1.37c-.4-.4-.92-.59-1.43-.59-.52 0-1.04.2-1.43.59L10.3 9.45l-7.72 7.72c-.78.78-.78 2.05 0 2.83L4 21.41c.39.39.9.59 1.41.59.51 0 1.02-.2 1.41-.59l7.78-7.78 2.81-2.81c.8-.78.8-2.07 0-2.86zM5.41 20L4 18.59l7.72-7.72 1.47 1.35L5.41 20z\"/>\n",
              "  </svg>\n",
              "      </button>\n",
              "      \n",
              "  <style>\n",
              "    .colab-df-container {\n",
              "      display:flex;\n",
              "      flex-wrap:wrap;\n",
              "      gap: 12px;\n",
              "    }\n",
              "\n",
              "    .colab-df-convert {\n",
              "      background-color: #E8F0FE;\n",
              "      border: none;\n",
              "      border-radius: 50%;\n",
              "      cursor: pointer;\n",
              "      display: none;\n",
              "      fill: #1967D2;\n",
              "      height: 32px;\n",
              "      padding: 0 0 0 0;\n",
              "      width: 32px;\n",
              "    }\n",
              "\n",
              "    .colab-df-convert:hover {\n",
              "      background-color: #E2EBFA;\n",
              "      box-shadow: 0px 1px 2px rgba(60, 64, 67, 0.3), 0px 1px 3px 1px rgba(60, 64, 67, 0.15);\n",
              "      fill: #174EA6;\n",
              "    }\n",
              "\n",
              "    [theme=dark] .colab-df-convert {\n",
              "      background-color: #3B4455;\n",
              "      fill: #D2E3FC;\n",
              "    }\n",
              "\n",
              "    [theme=dark] .colab-df-convert:hover {\n",
              "      background-color: #434B5C;\n",
              "      box-shadow: 0px 1px 3px 1px rgba(0, 0, 0, 0.15);\n",
              "      filter: drop-shadow(0px 1px 2px rgba(0, 0, 0, 0.3));\n",
              "      fill: #FFFFFF;\n",
              "    }\n",
              "  </style>\n",
              "\n",
              "      <script>\n",
              "        const buttonEl =\n",
              "          document.querySelector('#df-ce2df206-54bd-46e2-ad33-0563019f469f button.colab-df-convert');\n",
              "        buttonEl.style.display =\n",
              "          google.colab.kernel.accessAllowed ? 'block' : 'none';\n",
              "\n",
              "        async function convertToInteractive(key) {\n",
              "          const element = document.querySelector('#df-ce2df206-54bd-46e2-ad33-0563019f469f');\n",
              "          const dataTable =\n",
              "            await google.colab.kernel.invokeFunction('convertToInteractive',\n",
              "                                                     [key], {});\n",
              "          if (!dataTable) return;\n",
              "\n",
              "          const docLinkHtml = 'Like what you see? Visit the ' +\n",
              "            '<a target=\"_blank\" href=https://colab.research.google.com/notebooks/data_table.ipynb>data table notebook</a>'\n",
              "            + ' to learn more about interactive tables.';\n",
              "          element.innerHTML = '';\n",
              "          dataTable['output_type'] = 'display_data';\n",
              "          await google.colab.output.renderOutput(dataTable, element);\n",
              "          const docLink = document.createElement('div');\n",
              "          docLink.innerHTML = docLinkHtml;\n",
              "          element.appendChild(docLink);\n",
              "        }\n",
              "      </script>\n",
              "    </div>\n",
              "  </div>\n",
              "  "
            ],
            "text/plain": [
              "                                                 file  species_num  \\\n",
              "0   /content/drive/MyDrive/PlantVillage/TestLeaves...            0   \n",
              "1   /content/drive/MyDrive/PlantVillage/TestLeaves...            0   \n",
              "2   /content/drive/MyDrive/PlantVillage/TestLeaves...            0   \n",
              "3   /content/drive/MyDrive/PlantVillage/TestLeaves...            0   \n",
              "4   /content/drive/MyDrive/PlantVillage/TestLeaves...            0   \n",
              "5   /content/drive/MyDrive/PlantVillage/TestLeaves...            0   \n",
              "6   /content/drive/MyDrive/PlantVillage/TestLeaves...            0   \n",
              "7   /content/drive/MyDrive/PlantVillage/TestLeaves...            0   \n",
              "8   /content/drive/MyDrive/PlantVillage/TestLeaves...            0   \n",
              "9   /content/drive/MyDrive/PlantVillage/TestLeaves...            0   \n",
              "10  /content/drive/MyDrive/PlantVillage/TestLeaves...            0   \n",
              "11  /content/drive/MyDrive/PlantVillage/TestLeaves...            0   \n",
              "12  /content/drive/MyDrive/PlantVillage/TestLeaves...            0   \n",
              "13  /content/drive/MyDrive/PlantVillage/TestLeaves...            0   \n",
              "14  /content/drive/MyDrive/PlantVillage/TestLeaves...            1   \n",
              "15  /content/drive/MyDrive/PlantVillage/TestLeaves...            1   \n",
              "16  /content/drive/MyDrive/PlantVillage/TestLeaves...            1   \n",
              "17  /content/drive/MyDrive/PlantVillage/TestLeaves...            1   \n",
              "18  /content/drive/MyDrive/PlantVillage/TestLeaves...            1   \n",
              "19  /content/drive/MyDrive/PlantVillage/TestLeaves...            1   \n",
              "20  /content/drive/MyDrive/PlantVillage/TestLeaves...            3   \n",
              "21  /content/drive/MyDrive/PlantVillage/TestLeaves...            3   \n",
              "22  /content/drive/MyDrive/PlantVillage/TestLeaves...            3   \n",
              "23  /content/drive/MyDrive/PlantVillage/TestLeaves...            3   \n",
              "24  /content/drive/MyDrive/PlantVillage/TestLeaves...            3   \n",
              "25  /content/drive/MyDrive/PlantVillage/TestLeaves...            3   \n",
              "26  /content/drive/MyDrive/PlantVillage/TestLeaves...            3   \n",
              "27  /content/drive/MyDrive/PlantVillage/TestLeaves...            3   \n",
              "28  /content/drive/MyDrive/PlantVillage/TestLeaves...            3   \n",
              "29  /content/drive/MyDrive/PlantVillage/TestLeaves...            3   \n",
              "30  /content/drive/MyDrive/PlantVillage/TestLeaves...            3   \n",
              "31  /content/drive/MyDrive/PlantVillage/TestLeaves...            4   \n",
              "32  /content/drive/MyDrive/PlantVillage/TestLeaves...            4   \n",
              "33  /content/drive/MyDrive/PlantVillage/TestLeaves...            4   \n",
              "34  /content/drive/MyDrive/PlantVillage/TestLeaves...            4   \n",
              "35  /content/drive/MyDrive/PlantVillage/TestLeaves...            4   \n",
              "36  /content/drive/MyDrive/PlantVillage/TestLeaves...            4   \n",
              "37  /content/drive/MyDrive/PlantVillage/TestLeaves...            4   \n",
              "38  /content/drive/MyDrive/PlantVillage/TestLeaves...            4   \n",
              "39  /content/drive/MyDrive/PlantVillage/TestLeaves...            4   \n",
              "40  /content/drive/MyDrive/PlantVillage/TestLeaves...            4   \n",
              "41  /content/drive/MyDrive/PlantVillage/TestLeaves...            4   \n",
              "42  /content/drive/MyDrive/PlantVillage/TestLeaves...            4   \n",
              "43  /content/drive/MyDrive/PlantVillage/TestLeaves...            4   \n",
              "44  /content/drive/MyDrive/PlantVillage/TestLeaves...            4   \n",
              "45  /content/drive/MyDrive/PlantVillage/TestLeaves...            5   \n",
              "46  /content/drive/MyDrive/PlantVillage/TestLeaves...            5   \n",
              "47  /content/drive/MyDrive/PlantVillage/TestLeaves...            5   \n",
              "48  /content/drive/MyDrive/PlantVillage/TestLeaves...            5   \n",
              "49  /content/drive/MyDrive/PlantVillage/TestLeaves...            5   \n",
              "50  /content/drive/MyDrive/PlantVillage/TestLeaves...            5   \n",
              "\n",
              "                                         species  \n",
              "0                          Basella Alba (Basale)  \n",
              "1                          Basella Alba (Basale)  \n",
              "2                          Basella Alba (Basale)  \n",
              "3                          Basella Alba (Basale)  \n",
              "4                          Basella Alba (Basale)  \n",
              "5                          Basella Alba (Basale)  \n",
              "6                          Basella Alba (Basale)  \n",
              "7                          Basella Alba (Basale)  \n",
              "8                          Basella Alba (Basale)  \n",
              "9                          Basella Alba (Basale)  \n",
              "10                         Basella Alba (Basale)  \n",
              "11                         Basella Alba (Basale)  \n",
              "12                         Basella Alba (Basale)  \n",
              "13                         Basella Alba (Basale)  \n",
              "14  Muntingia Calabura (Jamaica Cherry-Gasagase)  \n",
              "15  Muntingia Calabura (Jamaica Cherry-Gasagase)  \n",
              "16  Muntingia Calabura (Jamaica Cherry-Gasagase)  \n",
              "17  Muntingia Calabura (Jamaica Cherry-Gasagase)  \n",
              "18  Muntingia Calabura (Jamaica Cherry-Gasagase)  \n",
              "19  Muntingia Calabura (Jamaica Cherry-Gasagase)  \n",
              "20               Pongamia Pinnata (Indian Beech)  \n",
              "21               Pongamia Pinnata (Indian Beech)  \n",
              "22               Pongamia Pinnata (Indian Beech)  \n",
              "23               Pongamia Pinnata (Indian Beech)  \n",
              "24               Pongamia Pinnata (Indian Beech)  \n",
              "25               Pongamia Pinnata (Indian Beech)  \n",
              "26               Pongamia Pinnata (Indian Beech)  \n",
              "27               Pongamia Pinnata (Indian Beech)  \n",
              "28               Pongamia Pinnata (Indian Beech)  \n",
              "29               Pongamia Pinnata (Indian Beech)  \n",
              "30               Pongamia Pinnata (Indian Beech)  \n",
              "31                       Psidium Guajava (Guava)  \n",
              "32                       Psidium Guajava (Guava)  \n",
              "33                       Psidium Guajava (Guava)  \n",
              "34                       Psidium Guajava (Guava)  \n",
              "35                       Psidium Guajava (Guava)  \n",
              "36                       Psidium Guajava (Guava)  \n",
              "37                       Psidium Guajava (Guava)  \n",
              "38                       Psidium Guajava (Guava)  \n",
              "39                       Psidium Guajava (Guava)  \n",
              "40                       Psidium Guajava (Guava)  \n",
              "41                       Psidium Guajava (Guava)  \n",
              "42                       Psidium Guajava (Guava)  \n",
              "43                       Psidium Guajava (Guava)  \n",
              "44                       Psidium Guajava (Guava)  \n",
              "45                  Syzygium Jambos (Rose Apple)  \n",
              "46                  Syzygium Jambos (Rose Apple)  \n",
              "47                  Syzygium Jambos (Rose Apple)  \n",
              "48                  Syzygium Jambos (Rose Apple)  \n",
              "49                  Syzygium Jambos (Rose Apple)  \n",
              "50                  Syzygium Jambos (Rose Apple)  "
            ]
          },
          "execution_count": 11,
          "metadata": {},
          "output_type": "execute_result"
        }
      ],
      "source": [
        "test = []\n",
        "SPECIES = class_names\n",
        "train_dir\n",
        "for species_num, species in enumerate(SPECIES):\n",
        "    for count, file in enumerate(os.listdir(os.path.join(test_dir, species + '/'))):\n",
        "          test.append([test_dir + '/{}/{}'.format(species, file), species_num, species])\n",
        "test_df = pd.DataFrame(test, columns=['file', 'species_num', 'species'])\n",
        "\n",
        "print('Training Data Shape: ',test_df.shape)\n",
        "test_df"
      ]
    },
    {
      "cell_type": "code",
      "execution_count": null,
      "metadata": {
        "id": "sasBLcr9FoCJ"
      },
      "outputs": [],
      "source": [
        "def progress(value, max=100):\n",
        "    return HTML(\"\"\"\n",
        "        <div style=\"display:flex; align-items:center\">\n",
        "          <h3 style=\"width:5rem\">\n",
        "          {progress:.2f}\n",
        "          </h3>\n",
        "          <progress\n",
        "              value='{value}'\n",
        "              max='{max}',\n",
        "              style='width: 100%;padding-top:2rem;margin-top:1rem'\n",
        "          >\n",
        "              {value}\n",
        "          </progress>\n",
        "        </div>\n",
        "    \"\"\".format(value=value, max=max,progress=100 * (value / float(max))))\n",
        "\n"
      ]
    },
    {
      "cell_type": "markdown",
      "metadata": {
        "id": "FrVJGwEtsSbC"
      },
      "source": [
        "\n",
        "### load Image to memory"
      ]
    },
    {
      "cell_type": "markdown",
      "metadata": {
        "id": "dwytyguD3sVz"
      },
      "source": [
        "**Train Leaves**"
      ]
    },
    {
      "cell_type": "code",
      "execution_count": null,
      "metadata": {
        "colab": {
          "base_uri": "https://localhost:8080/",
          "height": 272
        },
        "id": "WjvSKAPoGjyN",
        "outputId": "8666e023-1f69-49a6-f7f1-cfbc7de1d2dc"
      },
      "outputs": [
        {
          "data": {
            "text/html": [
              "\n",
              "        <div style=\"display:flex; align-items:center\">\n",
              "          <h3 style=\"width:5rem\">\n",
              "          99.74\n",
              "          </h3>\n",
              "          <progress\n",
              "              value='387'\n",
              "              max='388',\n",
              "              style='width: 100%;padding-top:2rem;margin-top:1rem'\n",
              "          >\n",
              "              387\n",
              "          </progress>\n",
              "        </div>\n",
              "    "
            ],
            "text/plain": [
              "<IPython.core.display.HTML object>"
            ]
          },
          "metadata": {},
          "output_type": "display_data"
        },
        {
          "name": "stdout",
          "output_type": "stream",
          "text": [
            "(256, 256, 3)\n"
          ]
        },
        {
          "data": {
            "image/png": "[encoded data removed]",
            "text/plain": [
              "<Figure size 1440x720 with 3 Axes>"
            ]
          },
          "metadata": {
            "needs_background": "light"
          },
          "output_type": "display_data"
        }
      ],
      "source": [
        "import PIL.Image\n",
        "from PIL import Image\n",
        "\n",
        "Originalimg = []\n",
        "Masked = []\n",
        "Ridged = []\n",
        "preProcessed = []\n",
        "preProcessedLabels = []\n",
        "l = len(train_df['file'])\n",
        "out = display(progress(0, l), display_id=True)\n",
        "    \n",
        "for i, file in enumerate(train_df['file']):\n",
        "    out.update(progress(i, l))\n",
        "    img = cv2.imread(file)\n",
        "    img = cv2.resize(img, (256,256), interpolation = cv2.INTER_AREA)\n",
        "    processImg = morphologicalMasking(img)\n",
        "    if(i == 2):\n",
        "      Masked = processImg\n",
        "    #cv2_imshow(cv2.cvtColor(processImg, cv2.COLOR_BGR2RGB))\n",
        "    # x_train.append(processImg)\n",
        "    processImg = np.concatenate((np.array(img),np.array(processImg)),axis=2)\n",
        "    rgb = rgba2rgb(np.array(processImg))\n",
        "    # ridges = detect_ridges(processImg)\n",
        "    # ridges = np.array(ridges)\n",
        "    if(i == 2):\n",
        "      Originalimg = img\n",
        "      # Ridged = ridges\n",
        "    # processImg = overlay(processImg,ridges)\n",
        "    preProcessed.append(rgb)\n",
        "    preProcessedLabels.append(train_df['species_num'][i])\n",
        "\n",
        "preProcessed = np.array(preProcessed)\n",
        "# x_train = np.reshape(x_train,x_train.shape + (1,))\n",
        "Originalimg = np.array(Originalimg)\n",
        "Masked = np.array(Masked)\n",
        "print(preProcessed[2].shape) \n",
        "plot_images(Originalimg,Masked,preProcessed[2],isRandom=False)\n",
        "# b= cv2.cvtColor(b,cv2.COLOR_BGR2GRAY)\n",
        "# im.save(\"/content/drive/MyDrive/PlantVillage/ridges.png\")\n",
        "\n"
      ]
    },
    {
      "cell_type": "code",
      "execution_count": null,
      "metadata": {
        "id": "hVr0IS0Y4uRD"
      },
      "outputs": [],
      "source": [
        "print(len(preProcessed))"
      ]
    },
    {
      "cell_type": "code",
      "execution_count": null,
      "metadata": {
        "id": "7vNRHozhwxMB"
      },
      "outputs": [],
      "source": [
        "# print(preProcessed.shape)\n",
        "plt.figure(figsize=(20, 10))\n",
        "for i in range(12):\n",
        "  rand=np.random.randint(0, preProcessed.shape[0])\n",
        "  # print(rand)\n",
        "  ax = plt.subplot(3, 4, i + 1)\n",
        "  plt.imshow(cv2.cvtColor(preProcessed[rand], cv2.COLOR_BGR2RGBA))\n",
        "\n",
        "  plt.title(class_names[train_df['species_num'][rand]])\n",
        "  plt.axis(\"off\")\n",
        "# plot_images(x_train)"
      ]
    },
    {
      "cell_type": "code",
      "execution_count": null,
      "metadata": {
        "id": "EPY6i5hnHO6J"
      },
      "outputs": [],
      "source": [
        "preProcessed.shape"
      ]
    },
    {
      "cell_type": "code",
      "execution_count": null,
      "metadata": {
        "id": "PmCaAxg235iF"
      },
      "outputs": [],
      "source": [
        "TestpreProcessed = []\n",
        "TestpreProcessedLabels = []\n",
        "l = len(test_df['file'])\n",
        "out = display(progress(0, l), display_id=True)\n",
        "    \n",
        "for i, file in enumerate(test_df['file']):\n",
        "    out.update(progress(i, l))\n",
        "    img = cv2.imread(file)\n",
        "    img = cv2.resize(img, (256,256), interpolation = cv2.INTER_AREA)\n",
        "    processImg = segment_image(img)\n",
        "    processImg = sharpen_image(processImg)\n",
        "    processImg = cv2.cvtColor(processImg,cv2.COLOR_RGB2GRAY)\n",
        "    processImg = np.reshape(processImg,(256,256,1))\n",
        "    processImg = np.concatenate((np.array(img),np.array(processImg)),axis=2)\n",
        "    rgb = rgba2rgb(np.array(processImg))\n",
        "    TestpreProcessed.append(rgb)\n",
        "    TestpreProcessedLabels.append(train_df['species_num'][i])\n",
        "\n",
        "TestpreProcessed = np.array(TestpreProcessed)\n",
        "# x_train = np.reshape(x_train,x_train.shape + (1,))\n",
        "# b= cv2.cvtColor(b,cv2.COLOR_BGR2GRAY)\n",
        "# im.save(\"/content/drive/MyDrive/PlantVillage/ridges.png\"\n"
      ]
    },
    {
      "cell_type": "code",
      "execution_count": null,
      "metadata": {
        "id": "tqoT-ItNGjyW"
      },
      "outputs": [],
      "source": [
        "\n",
        "from sklearn.model_selection import train_test_split\n",
        "x_train, x_test, y_train, y_test = train_test_split(preProcessed,train_df['species_num'] ,\n",
        "                                                    # stratify=labels, \n",
        "                                                    test_size=0.25)\n",
        "\n",
        "# x_train = preProcessed\n",
        "# y_train = preProcessedLabels \n",
        "\n",
        "# x_test, x_Pred, y_test, y_Pred = train_test_split(TestpreProcessed,TestpreProcessedLabels,\n",
        "#                                                     # stratify=labels, \n",
        "#                                                     test_size=0.25)\n",
        "\n"
      ]
    },
    {
      "cell_type": "code",
      "execution_count": null,
      "metadata": {
        "id": "V-kd7qVDMbMD"
      },
      "outputs": [],
      "source": [
        "# from PIL import Image\n",
        "# PredName = np.array(y_Pred)\n",
        "# for i, plant in enumerate(x_Pred):\n",
        "#   print(i,end=' ')\n",
        "#   im = Image.fromarray(plant)\n",
        "#   im.save(f'/content/drive/MyDrive/PlantVillage/Identify/plant3/{class_names[PredName[i]]}/{class_names[PredName[i]]}{i}.jpg')"
      ]
    },
    {
      "cell_type": "code",
      "execution_count": null,
      "metadata": {
        "colab": {
          "base_uri": "https://localhost:8080/"
        },
        "id": "bZnnatXuUj_Y",
        "outputId": "8387071f-be24-4b86-8f74-ff75ed0e650f"
      },
      "outputs": [
        {
          "name": "stdout",
          "output_type": "stream",
          "text": [
            "(291, 256, 256, 3)\n",
            "291\n",
            "(97, 256, 256, 3)\n",
            "97\n"
          ]
        }
      ],
      "source": [
        "print(x_train.shape)\n",
        "print(len(y_train))\n",
        "\n",
        "print(x_test.shape)\n",
        "print(len(y_test))\n",
        "\n",
        "y_train = np.array(y_train)\n",
        "y_test = np.array(y_test)"
      ]
    },
    {
      "cell_type": "code",
      "execution_count": null,
      "metadata": {
        "id": "TAA0ryzw_EuZ"
      },
      "outputs": [],
      "source": [
        "# y_trainDF = pd.DataFrame(y_train)\n",
        "# y_trainDF"
      ]
    },
    {
      "cell_type": "markdown",
      "metadata": {
        "id": "LiT-b7Y0Hx1i"
      },
      "source": [
        "### Data Augmentation\n"
      ]
    },
    {
      "cell_type": "code",
      "execution_count": null,
      "metadata": {
        "id": "RKtkr1DH0kxQ"
      },
      "outputs": [],
      "source": [
        "def dataGenerator(x,y,batch,datagen):\n",
        "  \n",
        "  datagen.fit(x)\n",
        "\n",
        "  train_test_generator = datagen.flow(x,y, batch_size=batch)\n",
        "  aug_x_ = []\n",
        "  aug_y_ = []\n",
        "  for j in range(len(train_test_generator)):\n",
        "\n",
        "    # convert to unsigned integers for plotting\n",
        "    for i in range(4):\n",
        "      data = next(train_test_generator)\n",
        "      image = data[0].astype('uint8')\n",
        "      title = data[1]\n",
        "      for i in range(len(image)):\n",
        "        # changing size from (1, 200, 200, 3) to (200, 200, 3) for plotting the image\n",
        "        img = np.squeeze(image[i])\n",
        "        aug_x_.append(img)\n",
        "        aug_y_.append(title[i])\n",
        "\n",
        "  aug_x_ = np.array(aug_x_)\n",
        "  aug_y_ = np.array(aug_y_)\n",
        "\n",
        "  aug_x_ = np.concatenate((aug_x_,x),axis=0)\n",
        "  aug_y_ = np.concatenate((aug_y_,y),axis=0)\n",
        "  return aug_x_, aug_y_"
      ]
    },
    {
      "cell_type": "markdown",
      "metadata": {
        "id": "sie6ZEpiyNBO"
      },
      "source": [
        "Train"
      ]
    },
    {
      "cell_type": "code",
      "execution_count": null,
      "metadata": {
        "id": "p0DQqXz8Hw0j"
      },
      "outputs": [],
      "source": [
        "datagen = ImageDataGenerator(rotation_range=360, zoom_range = 0.2,\n",
        "                             horizontal_flip=True, vertical_flip=True, fill_mode='constant',cval=255)"
      ]
    },
    {
      "cell_type": "code",
      "execution_count": null,
      "metadata": {
        "id": "qlakgCZcgu5m"
      },
      "outputs": [],
      "source": [
        "aug_x_train, aug_y_train = dataGenerator(x_train,y_train,BATCH_SIZE,datagen)"
      ]
    },
    {
      "cell_type": "code",
      "execution_count": null,
      "metadata": {
        "colab": {
          "base_uri": "https://localhost:8080/"
        },
        "id": "Cdx4ebCUomZZ",
        "outputId": "87e538ef-451d-43b4-eb53-183d39271c8c"
      },
      "outputs": [
        {
          "name": "stdout",
          "output_type": "stream",
          "text": [
            "(1455, 256, 256, 3)\n",
            "(1455,)\n"
          ]
        }
      ],
      "source": [
        "print(aug_x_train.shape)\n",
        "print(aug_y_train.shape)\n"
      ]
    },
    {
      "cell_type": "markdown",
      "metadata": {
        "id": "ceq3K9dyyLrJ"
      },
      "source": [
        "Test"
      ]
    },
    {
      "cell_type": "code",
      "execution_count": null,
      "metadata": {
        "id": "0OgoVOo01GNZ"
      },
      "outputs": [],
      "source": [
        "datagen = ImageDataGenerator(rotation_range=360, zoom_range = 0.2,\n",
        "                             horizontal_flip=True, vertical_flip=True, fill_mode='constant',cval=255)"
      ]
    },
    {
      "cell_type": "code",
      "execution_count": null,
      "metadata": {
        "id": "QHXC0DRcukAT"
      },
      "outputs": [],
      "source": [
        "aug_x_test, aug_y_test = dataGenerator(x_test,y_test,BATCH_SIZE,datagen)"
      ]
    },
    {
      "cell_type": "code",
      "execution_count": null,
      "metadata": {
        "colab": {
          "base_uri": "https://localhost:8080/"
        },
        "id": "rApKBVoWyoLF",
        "outputId": "d9329435-9f26-44f5-cddb-e0f15980e989"
      },
      "outputs": [
        {
          "name": "stdout",
          "output_type": "stream",
          "text": [
            "(485, 256, 256, 3)\n",
            "(485,)\n",
            "(97,)\n"
          ]
        }
      ],
      "source": [
        "print(aug_x_test.shape)\n",
        "print(aug_y_test.shape)\n",
        "print(y_test.shape)"
      ]
    },
    {
      "cell_type": "code",
      "execution_count": null,
      "metadata": {
        "id": "0R6yVFLDechw"
      },
      "outputs": [],
      "source": [
        "# plotting images\n",
        "fig, ax = plt.subplots(nrows=1, ncols=4, figsize=(15,15))\n",
        "\n",
        "for i in range(4):\n",
        "\n",
        "  # convert to unsigned integers for plotting\n",
        "  data = next(train_generator)\n",
        "  image = data[0].astype('uint8')\n",
        "  # changing size from (1, 200, 200, 3) to (200, 200, 3) for plotting the image\n",
        "  image = np.squeeze(image[0])\n",
        "  title = data[1]\n",
        "\n",
        "  # plot raw pixel data\n",
        "  ax[i].imshow(image)\n",
        "  ax[i].set_title(class_names[title[0]])\n",
        "  ax[i].axis('off')"
      ]
    },
    {
      "cell_type": "markdown",
      "metadata": {
        "id": "1ibpOYwI5Jz7"
      },
      "source": [
        "# CNN Training"
      ]
    },
    {
      "cell_type": "code",
      "execution_count": null,
      "metadata": {
        "id": "P1a5q1IHVSjJ"
      },
      "outputs": [],
      "source": [
        "input_shape = x_train.shape\n",
        "# print(input_shape)\n",
        "# print(labels.value_counts())\n",
        "# print(y_train)\n",
        "# print(type(y_train))"
      ]
    },
    {
      "cell_type": "code",
      "execution_count": null,
      "metadata": {
        "id": "Y9r4TBRAGjya"
      },
      "outputs": [],
      "source": []
    },
    {
      "cell_type": "code",
      "execution_count": null,
      "metadata": {
        "id": "rL1BsKarGjyf"
      },
      "outputs": [],
      "source": [
        "# input_shape = (BATCH_SIZE, IMAGE_SIZE, IMAGE_SIZE, 1)\n",
        "n_classes = 6\n",
        "resize_and_rescale = tf.keras.Sequential([\n",
        "  layers.experimental.preprocessing.Resizing(256, 256),\n",
        "  layers.experimental.preprocessing.Rescaling(1./255),\n",
        "])\n",
        "model = models.Sequential([\n",
        "    resize_and_rescale,\n",
        "    layers.Conv2D(64, kernel_size = (3,3), input_shape=input_shape),\n",
        "    layers.Activation('relu'),\n",
        "    layers.MaxPooling2D((2, 2)),\n",
        "    \n",
        "    layers.Conv2D(64, kernel_size = (3,3)),\n",
        "    layers.Activation('relu'),\n",
        "    layers.MaxPooling2D((2, 2)),\n",
        "    \n",
        "    layers.Conv2D(64,  kernel_size = (3,3)),\n",
        "    layers.Activation('relu'),\n",
        "    layers.MaxPooling2D((2, 2)),\n",
        "\n",
        "    layers.Conv2D(64, (3, 3)),\n",
        "    layers.Activation('relu'),\n",
        "\n",
        "    # layers.MaxPooling2D((2, 2)),\n",
        "    # layers.Conv2D(64, (3, 3), activation='relu'),\n",
        "    # layers.MaxPooling2D((2, 2)),\n",
        "    # layers.Conv2D(64, (3, 3), activation='relu'),\n",
        "    # layers.MaxPooling2D((2, 2)),\n",
        "    layers.Flatten(),\n",
        "    layers.Dense(64,name=\"featureLayer\"),\n",
        "    layers.Dense(64, activation='relu'),\n",
        "    layers.Dense(n_classes, activation='softmax'),\n",
        "])\n",
        "\n"
      ]
    },
    {
      "cell_type": "code",
      "execution_count": null,
      "metadata": {
        "id": "UgClE39CgI2s"
      },
      "outputs": [],
      "source": [
        "model.build(input_shape=input_shape)"
      ]
    },
    {
      "cell_type": "code",
      "execution_count": null,
      "metadata": {
        "id": "Nto4IS99Gjyg"
      },
      "outputs": [],
      "source": [
        "model.compile(\n",
        "    optimizer='adam',\n",
        "    loss=tf.keras.losses.SparseCategoricalCrossentropy(from_logits=False),\n",
        "    metrics=['accuracy']\n",
        ")"
      ]
    },
    {
      "cell_type": "code",
      "execution_count": null,
      "metadata": {
        "colab": {
          "base_uri": "https://localhost:8080/"
        },
        "id": "8eJFm9xyGjyg",
        "outputId": "a9dc9209-2238-4204-f3de-dc25165d1c9a",
        "scrolled": false
      },
      "outputs": [
        {
          "name": "stdout",
          "output_type": "stream",
          "text": [
            "Epoch 1/10\n",
            "46/46 [==============================] - 18s 119ms/step - loss: 1.3767 - accuracy: 0.4708 - val_loss: 0.9461 - val_accuracy: 0.6062\n",
            "Epoch 2/10\n",
            "46/46 [==============================] - 4s 95ms/step - loss: 0.6519 - accuracy: 0.7485 - val_loss: 0.6696 - val_accuracy: 0.7340\n",
            "Epoch 3/10\n",
            "46/46 [==============================] - 4s 95ms/step - loss: 0.2876 - accuracy: 0.8928 - val_loss: 0.3915 - val_accuracy: 0.8680\n",
            "Epoch 4/10\n",
            "46/46 [==============================] - 5s 100ms/step - loss: 0.2630 - accuracy: 0.9107 - val_loss: 0.2933 - val_accuracy: 0.9237\n",
            "Epoch 5/10\n",
            "46/46 [==============================] - 4s 96ms/step - loss: 0.2640 - accuracy: 0.9065 - val_loss: 0.4277 - val_accuracy: 0.8866\n",
            "Epoch 6/10\n",
            "46/46 [==============================] - 4s 98ms/step - loss: 0.2033 - accuracy: 0.9333 - val_loss: 0.3637 - val_accuracy: 0.8639\n",
            "Epoch 7/10\n",
            "46/46 [==============================] - 4s 96ms/step - loss: 0.1841 - accuracy: 0.9333 - val_loss: 0.2732 - val_accuracy: 0.9072\n",
            "Epoch 8/10\n",
            "46/46 [==============================] - 4s 96ms/step - loss: 0.1538 - accuracy: 0.9375 - val_loss: 0.3038 - val_accuracy: 0.9278\n",
            "Epoch 9/10\n",
            "46/46 [==============================] - 4s 96ms/step - loss: 0.0689 - accuracy: 0.9780 - val_loss: 0.3126 - val_accuracy: 0.9361\n",
            "Epoch 10/10\n",
            "46/46 [==============================] - 4s 96ms/step - loss: 0.0351 - accuracy: 0.9849 - val_loss: 0.4200 - val_accuracy: 0.9237\n"
          ]
        }
      ],
      "source": [
        "history = model.fit(aug_x_train,aug_y_train, batch_size=32, epochs = 10,validation_data = (aug_x_test,aug_y_test), verbose = 1)\n",
        "# history = model.fit(datagen.flow(x_train,y_train, batch_size=BATCH_SIZE), \n",
        "#                               steps_per_epoch=x_train.shape[0]//BATCH_SIZE, \n",
        "#                               epochs = 10,\n",
        "#                               validation_data = (x_test,y_test),\n",
        "#                               validation_steps = x_test.shape[0]//BATCH_SIZE, \n",
        "#                               verbose = 1)"
      ]
    },
    {
      "cell_type": "code",
      "execution_count": null,
      "metadata": {
        "colab": {
          "base_uri": "https://localhost:8080/",
          "height": 573
        },
        "id": "Wsa_PTB4ueVD",
        "outputId": "bf533a0a-c21b-48ea-d122-d7c0b7e31381"
      },
      "outputs": [
        {
          "data": {
            "image/png": "[encoded data removed]",
            "text/plain": [
              "<Figure size 432x288 with 1 Axes>"
            ]
          },
          "metadata": {
            "needs_background": "light"
          },
          "output_type": "display_data"
        },
        {
          "data": {
            "image/png": "[encoded data removed]",
            "text/plain": [
              "<Figure size 432x288 with 1 Axes>"
            ]
          },
          "metadata": {
            "needs_background": "light"
          },
          "output_type": "display_data"
        }
      ],
      "source": [
        "plt.plot(history.history['accuracy'])\n",
        "plt.plot(history.history['val_accuracy'])\n",
        "plt.title('model accuracy')\n",
        "plt.ylabel('accuracy')\n",
        "plt.xlabel('epoch')\n",
        "plt.legend(['train', 'test'], loc='upper left')\n",
        "plt.show()\n",
        "\n",
        "plt.plot(history.history['loss'])\n",
        "plt.plot(history.history['val_loss'])\n",
        "plt.title('model loss')\n",
        "plt.ylabel('loss')\n",
        "plt.xlabel('epoch')\n",
        "plt.legend(['train', 'test'], loc='upper left')\n",
        "plt.show()"
      ]
    },
    {
      "cell_type": "code",
      "execution_count": null,
      "metadata": {
        "colab": {
          "base_uri": "https://localhost:8080/"
        },
        "id": "-JKbgENlulpm",
        "outputId": "2c023823-bed4-4dcb-dc3d-aab6adccd09f"
      },
      "outputs": [
        {
          "name": "stdout",
          "output_type": "stream",
          "text": [
            "Model: \"sequential_12\"\n",
            "_________________________________________________________________\n",
            " Layer (type)                Output Shape              Param #   \n",
            "=================================================================\n",
            " sequential_11 (Sequential)  (None, 256, 256, 3)       0         \n",
            "                                                                 \n",
            " conv2d_77 (Conv2D)          (None, 254, 254, 16)      448       \n",
            "                                                                 \n",
            " activation_26 (Activation)  (None, 254, 254, 16)      0         \n",
            "                                                                 \n",
            " max_pooling2d_21 (MaxPoolin  (None, 127, 127, 16)     0         \n",
            " g2D)                                                            \n",
            "                                                                 \n",
            " conv2d_78 (Conv2D)          (None, 125, 125, 32)      4640      \n",
            "                                                                 \n",
            " activation_27 (Activation)  (None, 125, 125, 32)      0         \n",
            "                                                                 \n",
            " max_pooling2d_22 (MaxPoolin  (None, 62, 62, 32)       0         \n",
            " g2D)                                                            \n",
            "                                                                 \n",
            " conv2d_79 (Conv2D)          (None, 60, 60, 64)        18496     \n",
            "                                                                 \n",
            " activation_28 (Activation)  (None, 60, 60, 64)        0         \n",
            "                                                                 \n",
            " max_pooling2d_23 (MaxPoolin  (None, 30, 30, 64)       0         \n",
            " g2D)                                                            \n",
            "                                                                 \n",
            " flatten_9 (Flatten)         (None, 57600)             0         \n",
            "                                                                 \n",
            " featureLayer (Dense)        (None, 64)                3686464   \n",
            "                                                                 \n",
            " dense_18 (Dense)            (None, 64)                4160      \n",
            "                                                                 \n",
            " dense_19 (Dense)            (None, 6)                 390       \n",
            "                                                                 \n",
            "=================================================================\n",
            "Total params: 3,714,598\n",
            "Trainable params: 3,714,598\n",
            "Non-trainable params: 0\n",
            "_________________________________________________________________\n"
          ]
        }
      ],
      "source": [
        "model.summary()"
      ]
    },
    {
      "cell_type": "markdown",
      "metadata": {
        "id": "3vZUy-Q9kfDo"
      },
      "source": []
    },
    {
      "cell_type": "code",
      "execution_count": null,
      "metadata": {
        "id": "utHCFHi_E9i4"
      },
      "outputs": [],
      "source": []
    },
    {
      "cell_type": "markdown",
      "metadata": {
        "id": "JRw8iiTbPTM0"
      },
      "source": [
        "# Load Testing Data"
      ]
    },
    {
      "cell_type": "code",
      "execution_count": 14,
      "metadata": {
        "colab": {
          "base_uri": "https://localhost:8080/"
        },
        "id": "s_sJH3Ejvs_0",
        "outputId": "a4659639-93e9-41dc-94a4-e5bc1514b6d7"
      },
      "outputs": [
        {
          "name": "stdout",
          "output_type": "stream",
          "text": [
            "['Ipil-ipil']\n",
            "Testing Data Shape:  (55, 3)\n"
          ]
        }
      ],
      "source": [
        "from sklearn.utils import shuffle\n",
        "import numpy as np\n",
        "\n",
        "\n",
        "identify = []\n",
        "identifyDir = '/content/drive/MyDrive/PlantVillage/TrainLeaves2/'\n",
        "# identifyDir = '/content/drive/MyDrive/PlantVillage/Test/'\n",
        "# identifyDir = '/content/drive/MyDrive/PlantVillage/Identify/augTestLeaves2/'\n",
        "# identifyDir = 'D:/document/FEU/PlantVillage/Identify/'\n",
        "\n",
        "toTest = class_names\n",
        "SPECIES =  ['Ipil-ipil']\n",
        "print(SPECIES)\n",
        "fileName = []\n",
        "for species_num, species in enumerate(SPECIES):\n",
        "    for file in os.listdir(os.path.join(identifyDir, species + '/')):\n",
        "        fileName.append(file)\n",
        "        identify.append([identifyDir + '/{}/{}'.format(species, file), species_num, species])\n",
        "        \n",
        "identify_df = pd.DataFrame(identify, columns=['file', 'species_num', 'species'])\n",
        "\n",
        "print('Testing Data Shape: ',identify_df.shape)"
      ]
    },
    {
      "cell_type": "markdown",
      "metadata": {
        "id": "ujmJCE3L8tFf"
      },
      "source": [
        "**Without Filter**"
      ]
    },
    {
      "cell_type": "code",
      "execution_count": 15,
      "metadata": {
        "colab": {
          "base_uri": "https://localhost:8080/"
        },
        "id": "DeEvv1gO8lQf",
        "outputId": "c28710e8-ad1a-422c-8ca0-70a44d83466e"
      },
      "outputs": [
        {
          "data": {
            "text/plain": [
              "(55, 256, 256, 3)"
            ]
          },
          "execution_count": 15,
          "metadata": {},
          "output_type": "execute_result"
        }
      ],
      "source": [
        "x_identify = []\n",
        "for i in range(len(identify)):\n",
        "    img = cv2.imread(identify_df['file'][i])\n",
        "    img = cv2.resize(img, (256,256), interpolation = cv2.INTER_AREA)\n",
        "    x_identify.append(np.array(img))\n",
        "\n",
        "\n",
        "x_identify = np.array(x_identify)\n",
        "# x_identify = np.reshape(x_identify,x_identify.shape + (0,))  \n",
        "identify_labels = identify_df['species']\n",
        "x_identify.shape"
      ]
    },
    {
      "cell_type": "markdown",
      "metadata": {
        "id": "7kU24knyKkWy"
      },
      "source": [
        "### Filters"
      ]
    },
    {
      "cell_type": "markdown",
      "metadata": {
        "id": "cYgIsh4G8-Tn"
      },
      "source": [
        "**With Filter**"
      ]
    },
    {
      "cell_type": "markdown",
      "metadata": {
        "id": "ic1PuMZZXQLk"
      },
      "source": [
        "**Filter Type 1**"
      ]
    },
    {
      "cell_type": "code",
      "execution_count": null,
      "metadata": {
        "colab": {
          "base_uri": "https://localhost:8080/"
        },
        "id": "INldIjvn88SY",
        "outputId": "265cae5d-aa1b-4c71-9a69-58746bda8339"
      },
      "outputs": [
        {
          "name": "stdout",
          "output_type": "stream",
          "text": [
            "55\n"
          ]
        }
      ],
      "source": [
        "x_identify = []\n",
        "for i in range(len(identify)):\n",
        "    img = cv2.imread(identify_df['file'][i])\n",
        "    \n",
        "    img = cv2.resize(img, (256,256), interpolation = cv2.INTER_AREA)\n",
        "    processImg = morphologicalMasking(img)\n",
        "\n",
        "    #cv2_imshow(cv2.cvtColor(processImg, cv2.COLOR_BGR2RGB))\n",
        "    # x_train.append(processImg)\n",
        "    processImg = np.concatenate((np.array(img),np.array(processImg)),axis=2)\n",
        "    blurr = removeBlurr(processImg)\n",
        "    if blurr is not None:\n",
        "        processImg = blurr\n",
        "    processImg = rgba2rgb(np.array(processImg))\n",
        "    # ridges = detect_ridges(rgb)\n",
        "    x_identify.append(processImg)\n",
        "\n",
        "\n",
        "\n",
        "x_identify = np.array(x_identify)\n",
        "print(len(identify))\n",
        "# x_identify = np.reshape(x_identify,x_identify.shape + (1,))  \n",
        "identify_labels = identify_df['species']\n",
        "identify_labels = np.array(identify_labels)"
      ]
    },
    {
      "cell_type": "markdown",
      "metadata": {
        "id": "2Ktz8KUfXUNa"
      },
      "source": [
        "**Filter Type 2**"
      ]
    },
    {
      "cell_type": "code",
      "execution_count": 17,
      "metadata": {
        "colab": {
          "base_uri": "https://localhost:8080/"
        },
        "id": "sS3HA1c74isx",
        "outputId": "b1acfd67-d108-4e51-ad74-8e356559df31"
      },
      "outputs": [
        {
          "name": "stdout",
          "output_type": "stream",
          "text": [
            "55\n"
          ]
        }
      ],
      "source": [
        "x_identify = []\n",
        "\n",
        "for i in range(len(identify)):\n",
        "    img = cv2.imread(identify_df['file'][i])\n",
        "    img = cv2.resize(img, (256,256), interpolation = cv2.INTER_AREA)\n",
        "    # processImg = removeBlurr(img)\n",
        "    processImg = morphologicalMasking(img)\n",
        "    #cv2_imshow(cv2.cvtColor(processImg, cv2.COLOR_BGR2RGB))\n",
        "    # x_train.append(processImg)\n",
        "\n",
        "    processImg = np.concatenate((np.array(img),np.array(processImg)),axis=2)\n",
        "    rgb = rgba2rgb(np.array(processImg))\n",
        "    # ridges = detect_ridges(rgb)\n",
        "    x_identify.append(rgb)\n",
        "\n",
        "\n",
        "\n",
        "x_identify = np.array(x_identify)\n",
        "print(len(identify))\n",
        "# x_identify = np.reshape(x_identify,x_identify.shape + (1,))  \n",
        "identify_labels = identify_df['species']\n",
        "identify_labels = np.array(identify_labels)"
      ]
    },
    {
      "cell_type": "code",
      "execution_count": null,
      "metadata": {
        "id": "cCLmJLjD1iwc"
      },
      "outputs": [],
      "source": [
        "datagen = ImageDataGenerator(rotation_range=360, zoom_range = 0.2,\n",
        "                              horizontal_flip=True, vertical_flip=True, fill_mode='constant',cval=255)\n",
        "aug_x_identify , aug_y_identify = dataGenerator(x_identify,identify_labels,8,datagen)\n",
        "# from PIL import Image\n",
        "# identify_l = identify_df['species_num']\n",
        "# for i, plant in enumerate(aug_x_identify):\n",
        "#   plants = plant[:,:,::-1]\n",
        "#   image = Image.fromarray(plants.astype('uint8'), 'RGB')\n",
        "\n",
        "\n",
        "#   image.save(f'/content/drive/MyDrive/PlantVillage/augTestLeaves2/{aug_y_identify[i]}/{aug_y_identify[i]}{i}.jpg')"
      ]
    },
    {
      "cell_type": "code",
      "execution_count": null,
      "metadata": {
        "id": "eyCcxpuaNdK4"
      },
      "outputs": [],
      "source": [
        "plt.figure(figsize=(20, 20))\n",
        "length = len(x_identify)\n",
        "if length > 20:\n",
        "  length = 20\n",
        "for i in range(length):\n",
        "  ax = plt.subplot(5, 4, i + 1)\n",
        "  plt.imshow(cv2.cvtColor(x_identify[i], cv2.COLOR_BGR2RGBA))\n",
        "  plt.axis(\"off\")\n",
        "  # plt.title(aug_y_identify[i])"
      ]
    },
    {
      "cell_type": "markdown",
      "metadata": {
        "id": "4KYU8-wWFH_t"
      },
      "source": [
        "# CNN Prediction"
      ]
    },
    {
      "cell_type": "markdown",
      "metadata": {
        "id": "wVRYzg6s9Jam"
      },
      "source": [
        "**CNN Prediction**"
      ]
    },
    {
      "cell_type": "code",
      "execution_count": null,
      "metadata": {
        "colab": {
          "base_uri": "https://localhost:8080/"
        },
        "id": "qYZTW3fH9GgQ",
        "outputId": "e81583ad-f5d0-475d-e4b8-90a6cbaca1d9"
      },
      "outputs": [
        {
          "name": "stdout",
          "output_type": "stream",
          "text": [
            "{'Basella Alba (Basale)': 1, 'Muntingia Calabura (Jamaica Cherry-Gasagase)': 1}\n"
          ]
        }
      ],
      "source": [
        "from pprint import pprint\n",
        "batch_prediction = model.predict(x_identify)\n",
        "predictionList = {}\n",
        "count = 0\n",
        "for i in batch_prediction:\n",
        "  # print(\"predicted label:\",class_names[np.argmax(i)],\" \",i[np.argmax(i)])\n",
        "  if(class_names[np.argmax(i)] not in predictionList):\n",
        "    predictionList[class_names[np.argmax(i)]] = 1\n",
        "  else:\n",
        "    predictionList[class_names[np.argmax(i)]] += 1\n",
        "\n",
        "pprint(predictionList)    \n",
        "# scores = model.evaluate(x_test,y_test)"
      ]
    },
    {
      "cell_type": "code",
      "execution_count": null,
      "metadata": {
        "id": "4kuD01dv3KkM"
      },
      "outputs": [],
      "source": [
        "from tensorflow import keras\n",
        "\n",
        "model_feat = keras.Model(inputs=model.input,outputs=model.get_layer('featureLayer').output)"
      ]
    },
    {
      "cell_type": "code",
      "execution_count": null,
      "metadata": {
        "colab": {
          "base_uri": "https://localhost:8080/"
        },
        "id": "jt-cuDH2RcUd",
        "outputId": "0ce7568b-b660-42c5-ba99-143aebf6ff6a"
      },
      "outputs": [
        {
          "name": "stdout",
          "output_type": "stream",
          "text": [
            "(1455, 64)\n"
          ]
        }
      ],
      "source": [
        "feat_train = model_feat.predict(aug_x_train)\n",
        "print(feat_train.shape)"
      ]
    },
    {
      "cell_type": "code",
      "execution_count": null,
      "metadata": {
        "colab": {
          "base_uri": "https://localhost:8080/"
        },
        "id": "agfgmrv-9Jjc",
        "outputId": "cd119adc-fae3-4ad8-ffb8-7cbfeea4acbf"
      },
      "outputs": [
        {
          "name": "stdout",
          "output_type": "stream",
          "text": [
            "(28, 64)\n"
          ]
        }
      ],
      "source": [
        "# feat_test = model_feat.predict(x_test)\n",
        "feat_test = model_feat.predict(x_identify)\n",
        "print(feat_test.shape)"
      ]
    },
    {
      "cell_type": "code",
      "execution_count": null,
      "metadata": {
        "id": "rmnVPMzKMNKO"
      },
      "outputs": [],
      "source": [
        "from sklearn.neighbors import KNeighborsClassifier\n",
        "from sklearn import metrics\n",
        "# from sklearn.inspection import DecisionBoundaryDisplay\n",
        "import pylab as pl\n",
        "import numpy as np\n",
        "\n",
        "\n",
        "\n",
        "scores = []\n",
        "for i in range(3,15):\n",
        "  knn = KNeighborsClassifier(n_neighbors=i)\n",
        "\n",
        "  knn.fit(feat_train,aug_y_train)\n",
        "\n",
        "  score = knn.score(model_feat.predict(aug_x_test),aug_y_test)\n",
        "  scores.append(score)\n",
        "  print(\"neighbors: \",i,\" score: \",score)\n",
        "\n",
        "\n",
        "plt.plot(range(3,15),scores)\n",
        "plt.xlabel('Vallue of K for KNN')\n",
        "plt.ylabel('Testing Accuracy')"
      ]
    },
    {
      "cell_type": "code",
      "execution_count": null,
      "metadata": {
        "colab": {
          "base_uri": "https://localhost:8080/"
        },
        "id": "rzdec8IXXkHX",
        "outputId": "a7d494aa-d42a-4b50-c464-579cae0833b1"
      },
      "outputs": [
        {
          "name": "stdout",
          "output_type": "stream",
          "text": [
            "The prediction for this image is:  Psidium Guajava (Guava)  probability:  1.0\n",
            "The prediction for this image is:  Psidium Guajava (Guava)  probability:  1.0\n",
            "The prediction for this image is:  Pongamia Pinnata (Indian Beech)  probability:  1.0\n",
            "The prediction for this image is:  Psidium Guajava (Guava)  probability:  1.0\n",
            "The prediction for this image is:  Psidium Guajava (Guava)  probability:  0.6\n",
            "The prediction for this image is:  Psidium Guajava (Guava)  probability:  1.0\n",
            "The prediction for this image is:  Psidium Guajava (Guava)  probability:  1.0\n",
            "The prediction for this image is:  Psidium Guajava (Guava)  probability:  1.0\n",
            "The prediction for this image is:  Psidium Guajava (Guava)  probability:  1.0\n",
            "The prediction for this image is:  Psidium Guajava (Guava)  probability:  1.0\n",
            "The prediction for this image is:  Psidium Guajava (Guava)  probability:  1.0\n",
            "The prediction for this image is:  Psidium Guajava (Guava)  probability:  1.0\n",
            "The prediction for this image is:  Psidium Guajava (Guava)  probability:  1.0\n",
            "The prediction for this image is:  Psidium Guajava (Guava)  probability:  1.0\n",
            "The prediction for this image is:  Pongamia Pinnata (Indian Beech)  probability:  0.8\n",
            "The prediction for this image is:  Psidium Guajava (Guava)  probability:  1.0\n",
            "The prediction for this image is:  Psidium Guajava (Guava)  probability:  1.0\n",
            "The prediction for this image is:  Psidium Guajava (Guava)  probability:  1.0\n",
            "The prediction for this image is:  Psidium Guajava (Guava)  probability:  1.0\n",
            "The prediction for this image is:  Psidium Guajava (Guava)  probability:  1.0\n",
            "The prediction for this image is:  Psidium Guajava (Guava)  probability:  1.0\n",
            "The prediction for this image is:  Psidium Guajava (Guava)  probability:  1.0\n",
            "The prediction for this image is:  Psidium Guajava (Guava)  probability:  1.0\n",
            "The prediction for this image is:  Psidium Guajava (Guava)  probability:  1.0\n",
            "The prediction for this image is:  Psidium Guajava (Guava)  probability:  1.0\n",
            "The prediction for this image is:  Psidium Guajava (Guava)  probability:  1.0\n",
            "The prediction for this image is:  Psidium Guajava (Guava)  probability:  1.0\n",
            "The prediction for this image is:  Psidium Guajava (Guava)  probability:  1.0\n",
            "{'Pongamia Pinnata (Indian Beech)': 2, 'Psidium Guajava (Guava)': 26}\n"
          ]
        }
      ],
      "source": [
        "from sklearn.neighbors import KNeighborsClassifier\n",
        "knn = KNeighborsClassifier(n_neighbors=5)\n",
        "\n",
        "knn.fit(feat_train,aug_y_train)\n",
        "\n",
        "# score = knn.score(feat_test,y_test)\n",
        "# print(score)\n",
        "predictionList = {}\n",
        "\n",
        "prediction = knn.predict(feat_test)\n",
        "proba = knn.predict_proba(feat_test)\n",
        "for i,pred in enumerate(prediction):\n",
        "  probability = max(proba[i])\n",
        "  if probability > 0.5:\n",
        "    print(\"The prediction for this image is: \", class_names[pred],\" probability: \",probability)\n",
        "  else:\n",
        "    print(\"Not Sure\")\n",
        "  if(class_names[pred] not in predictionList):\n",
        "    predictionList[class_names[pred]] = 1\n",
        "  else:\n",
        "    predictionList[class_names[pred]] += 1\n",
        "\n",
        "pprint(predictionList)\n"
      ]
    },
    {
      "cell_type": "code",
      "execution_count": null,
      "metadata": {
        "id": "nB7-vkTpwZWU"
      },
      "outputs": [],
      "source": [
        "trainingFeatures = model_feat.predict(x_train)\n",
        "npytrain = np.array(y_train)\n",
        "rows = []\n",
        "\n",
        "for  features in trainingFeatures:\n",
        "    rows.append(['plant'] + features)\n",
        "\n",
        "featuresdf = pd.DataFrame(rows, columns=['plants'] + [f'Unit {i+1}' for i in range(64)])  \n",
        "featuresdf"
      ]
    },
    {
      "cell_type": "markdown",
      "metadata": {
        "id": "419PwwMs9yGw"
      },
      "source": [
        "# Models Location"
      ]
    },
    {
      "cell_type": "code",
      "execution_count": null,
      "metadata": {
        "id": "uPjlwPByhmc2"
      },
      "outputs": [],
      "source": [
        "fileName = \"3747659RGBaug50_leafv4\"\n",
        "Path = \"/content/drive/MyDrive/PlantVillage/Models/\"\n",
        "\n",
        "CNNModel = f'{fileName}.h5'\n",
        "CNNModelPath = f'{Path}/CNN/{CNNModel}'\n",
        "\n",
        "kNNModel = f'{fileName}.pkl'\n",
        "kNNModelPath = f'{Path}/kNN/{kNNModel}'\n",
        "\n",
        "preprocessedArray = f'{fileName}.npy'\n",
        "preprocessedArrayPath = f'{Path}/preprocessed/{preprocessedArray}'\n",
        "\n",
        "TestpreprocessedArray = f'{fileName}.npy'\n",
        "TestpreprocessedArrayPath = f'{Path}/TestpreProcessed/{preprocessedArray}'\n",
        "\n",
        "x_trainArray = f'{fileName}.npy'\n",
        "x_trainArrayPath = f'{Path}/x_train/{x_trainArray}'\n",
        "\n",
        "aug_x_trainArray = f'{fileName}.npy'\n",
        "aug_x_trainArrayPath = f'{Path}/aug_x_train/{aug_x_trainArray}'\n",
        "\n",
        "x_testArray = f'{fileName}.npy'\n",
        "x_testArrayPath = f'{Path}/x_test/{x_testArray}'\n",
        "\n",
        "aug_x_testArray = f'{fileName}.npy'\n",
        "aug_x_testArrayPath = f'{Path}/aug_x_test/{aug_x_testArray}'\n",
        "\n",
        "y_trainArray = f'{fileName}.csv'\n",
        "y_trainArrayPath = f'{Path}/y_train/{y_trainArray}'\n",
        "\n",
        "aug_y_trainArray = f'{fileName}.npy'\n",
        "aug_y_trainArrayPath = f'{Path}/aug_y_train/{aug_y_trainArray}'\n",
        "\n",
        "y_testArray = f'{fileName}.csv'\n",
        "y_testArrayPath = f'{Path}/y_test/{y_testArray}'\n",
        "\n",
        "aug_y_testArray = f'{fileName}.npy'\n",
        "aug_y_testArrayPath = f'{Path}/aug_y_test/{aug_y_testArray}'"
      ]
    },
    {
      "cell_type": "markdown",
      "metadata": {
        "id": "xJIY4MwR4-fJ"
      },
      "source": [
        "### Save Models"
      ]
    },
    {
      "cell_type": "code",
      "execution_count": null,
      "metadata": {
        "colab": {
          "base_uri": "https://localhost:8080/"
        },
        "id": "7acV0u-czmnl",
        "outputId": "b8c098dd-6383-4c72-803f-9880a427492f"
      },
      "outputs": [
        {
          "name": "stdout",
          "output_type": "stream",
          "text": [
            "saved CNN\n",
            "saved kNN\n",
            "saved x_train\n",
            "saved aug_x_train\n",
            "saved x_test\n",
            "saved aug_x_test\n",
            "save y_train\n",
            "saved aug_y_train\n",
            "save y_test\n",
            "saved aug_y_test\n"
          ]
        }
      ],
      "source": [
        "import os.path\n",
        "import joblib\n",
        "replace = False\n",
        "save = [\n",
        "        'CNN',\n",
        "        'kNN',\n",
        "        # 'preprocessed',\n",
        "        # 'TestpreProcessed',\n",
        "        'x_train',\n",
        "        'aug_x_train',\n",
        "        'x_test',\n",
        "        'aug_x_test',\n",
        "        'y_train',\n",
        "        'aug_y_train',\n",
        "        'y_test',\n",
        "        'aug_y_test'\n",
        "        ]\n",
        "\n",
        "# CNN\n",
        "if 'CNN' in save and os.path.isfile(CNNModelPath) is replace:\n",
        "  print(\"saved CNN\")\n",
        "  model.save(CNNModelPath)\n",
        "\n",
        "# kNN\n",
        "if 'kNN' in save and os.path.isfile(kNNModelPath) is replace:\n",
        "  print(\"saved kNN\")\n",
        "  joblib.dump(knn, kNNModelPath)  \n",
        "\n",
        "# preprocessed\n",
        "if 'preprocessed' in save and os.path.isfile(preprocessedArrayPath) is replace :\n",
        "  print(\"saved preprocessed\")\n",
        "  np.save(preprocessedArrayPath, preProcessed)\n",
        "\n",
        "# testpreprocessed\n",
        "if 'TestpreProcessed' in save and os.path.isfile(TestpreprocessedArrayPath) is replace :\n",
        "  print(\"saved testpreprocessed\")\n",
        "  np.save(TestpreprocessedArrayPath, TestpreProcessed)\n",
        "\n",
        "# x_train\n",
        "if 'x_train' in save and os.path.isfile(x_trainArrayPath) is replace:\n",
        "  print(\"saved x_train\")\n",
        "  np.save(x_trainArrayPath, x_train)\n",
        "\n",
        "# aug_x_train\n",
        "if 'aug_x_train' in save and os.path.isfile(aug_x_trainArrayPath) is replace:\n",
        "  print(\"saved aug_x_train\")\n",
        "  np.save(aug_x_trainArrayPath, aug_x_train)\n",
        "\n",
        "# x_test\n",
        "if 'x_test' in save and os.path.isfile(x_testArrayPath) is replace:\n",
        "  print(\"saved x_test\")\n",
        "  np.save(x_testArrayPath, x_test)\n",
        "\n",
        "# aug_x_test\n",
        "if 'aug_x_test' in save and os.path.isfile(aug_x_testArrayPath) is replace:\n",
        "  print(\"saved aug_x_test\")\n",
        "  np.save(aug_x_testArrayPath, aug_x_test)\n",
        "\n",
        "# y_train\n",
        "if 'y_train' in save and os.path.isfile(y_trainArrayPath) is replace:\n",
        "  print('save y_train')\n",
        "  y_trainDF = pd.DataFrame(y_train)\n",
        "  y_trainDF.to_csv(y_trainArrayPath)\n",
        "\n",
        "# aug_y_train\n",
        "if 'aug_y_train' in save and os.path.isfile(aug_y_trainArrayPath) is replace:\n",
        "  print(\"saved aug_y_train\")\n",
        "  y_trainDF = pd.DataFrame(aug_y_train)\n",
        "  y_trainDF.to_csv(aug_y_trainArrayPath)\n",
        "\n",
        "# y_test\n",
        "if 'y_test' in save and os.path.isfile(y_testArrayPath) is replace:\n",
        "  print('save y_test')\n",
        "  y_testDF = pd.DataFrame(y_test)\n",
        "  y_testDF.to_csv(y_testArrayPath)\n",
        "\n",
        "# aug_y_test\n",
        "if 'aug_y_test' in save and os.path.isfile(aug_y_testArrayPath) is replace:\n",
        "  print(\"saved aug_y_test\")\n",
        "  y_testDF = pd.DataFrame(aug_y_test)\n",
        "  y_testDF.to_csv(aug_y_testArrayPath)"
      ]
    },
    {
      "cell_type": "markdown",
      "metadata": {
        "id": "Urr8CDR1G4VK"
      },
      "source": [
        "### Load Models\n"
      ]
    },
    {
      "cell_type": "code",
      "execution_count": null,
      "metadata": {
        "colab": {
          "base_uri": "https://localhost:8080/"
        },
        "id": "4kKHja8DGaso",
        "outputId": "7707356c-1d7b-42f6-bde4-ba5a5e2f9995"
      },
      "outputs": [
        {
          "name": "stdout",
          "output_type": "stream",
          "text": [
            "CNN loaded\n",
            "kNN loaded\n",
            "aug_x_train loaded\n",
            "aug_x_test loaded\n",
            "aug_y_train loaded\n",
            "aug_y_test loaded\n"
          ]
        }
      ],
      "source": [
        "import os.path\n",
        "import joblib\n",
        "from tensorflow.keras.models import load_model\n",
        "from tensorflow import keras\n",
        "\n",
        "\n",
        "load = [\n",
        "        'CNN',\n",
        "        'kNN',\n",
        "        # 'preprocessed',\n",
        "        # 'TestpreProcessed',\n",
        "        # 'x_train',\n",
        "        'aug_x_train',\n",
        "        # 'x_test',\n",
        "        'aug_x_test',\n",
        "        # 'y_train',\n",
        "        'aug_y_train',\n",
        "        # 'y_test',\n",
        "        'aug_y_test'\n",
        "        ]\n",
        "model = None\n",
        "model_feat = None\n",
        "knn = None\n",
        "preProcessed = None\n",
        "x_train = None\n",
        "aug_x_train = None\n",
        "x_test = None\n",
        "aug_x_test = None\n",
        "y_train = None\n",
        "aug_y_train = None\n",
        "y_test = None\n",
        "aug_y_test = None\n",
        "\n",
        "if 'CNN' in load:\n",
        "  model = load_model(CNNModelPath)\n",
        "  model_feat = keras.Model(inputs=model.input,outputs=model.get_layer('featureLayer').output)\n",
        "  print('CNN loaded')\n",
        "\n",
        "if 'kNN' in load:\n",
        "  knn = joblib.load(kNNModelPath)\n",
        "  print('kNN loaded')\n",
        "\n",
        "if 'preprocessed' in load:\n",
        "  preProcessed = np.load(preprocessedArrayPath)\n",
        "  print('preprocessed loaded')\n",
        "\n",
        "if 'TestpreProcessed' in load:\n",
        "  TestpreProcessed = np.load(TestpreprocessedArrayPath)\n",
        "  print('TestpreProcessed loaded')\n",
        "\n",
        "if 'x_train' in load:\n",
        "  x_train = np.load(x_trainArrayPath)\n",
        "  print('x_train loaded')\n",
        "\n",
        "if 'aug_x_train' in load:\n",
        "  aug_x_train = np.load(aug_x_trainArrayPath)\n",
        "  print('aug_x_train loaded')\n",
        "\n",
        "if 'x_test' in load:\n",
        "  x_test = np.load(x_testArrayPath)\n",
        "  print('x_test loaded')\n",
        "\n",
        "if 'aug_x_test' in load:\n",
        "  aug_x_test = np.load(aug_x_testArrayPath)\n",
        "  print('aug_x_test loaded')  \n",
        "\n",
        "if 'y_train' in load:\n",
        "  y_train = pd.read_csv(y_trainArrayPath,index_col=0)\n",
        "  y_train = y_train.squeeze()\n",
        "  print('y_train loaded')\n",
        "\n",
        "if 'aug_y_train' in load:\n",
        "  aug_y_train = pd.read_csv(aug_y_trainArrayPath,index_col=0)\n",
        "  aug_y_train = aug_y_train.squeeze()\n",
        "  print('aug_y_train loaded')\n",
        "\n",
        "if 'y_test' in load:\n",
        "  y_test = pd.read_csv(y_testArrayPath,index_col=0)\n",
        "  y_test = y_test.squeeze()\n",
        "  print('y_test loaded')\n",
        "\n",
        "if 'aug_y_test' in load:\n",
        "  aug_y_test = pd.read_csv(aug_y_testArrayPath,index_col=0)\n",
        "  aug_y_test = aug_y_test.squeeze()\n",
        "  print('aug_y_test loaded')"
      ]
    },
    {
      "cell_type": "markdown",
      "metadata": {
        "id": "fPb6fQrM95ho"
      },
      "source": [
        "\n",
        "# Testing"
      ]
    },
    {
      "cell_type": "code",
      "execution_count": null,
      "metadata": {
        "colab": {
          "base_uri": "https://localhost:8080/"
        },
        "id": "8d-oboEpM1YX",
        "outputId": "4043ec94-8f3d-47c2-f677-143fd46d30db"
      },
      "outputs": [
        {
          "name": "stdout",
          "output_type": "stream",
          "text": [
            "Model: \"sequential_2\"\n",
            "_________________________________________________________________\n",
            " Layer (type)                Output Shape              Param #   \n",
            "=================================================================\n",
            " sequential_1 (Sequential)   (None, 256, 256, 3)       0         \n",
            "                                                                 \n",
            " conv2d (Conv2D)             (None, 254, 254, 32)      896       \n",
            "                                                                 \n",
            " max_pooling2d (MaxPooling2D  (None, 127, 127, 32)     0         \n",
            " )                                                               \n",
            "                                                                 \n",
            " conv2d_1 (Conv2D)           (None, 125, 125, 64)      18496     \n",
            "                                                                 \n",
            " max_pooling2d_1 (MaxPooling  (None, 62, 62, 64)       0         \n",
            " 2D)                                                             \n",
            "                                                                 \n",
            " conv2d_2 (Conv2D)           (None, 60, 60, 64)        36928     \n",
            "                                                                 \n",
            " max_pooling2d_2 (MaxPooling  (None, 30, 30, 64)       0         \n",
            " 2D)                                                             \n",
            "                                                                 \n",
            " flatten (Flatten)           (None, 57600)             0         \n",
            "                                                                 \n",
            " featureLayer (Dense)        (None, 64)                3686464   \n",
            "                                                                 \n",
            " dense (Dense)               (None, 64)                4160      \n",
            "                                                                 \n",
            " dense_1 (Dense)             (None, 6)                 390       \n",
            "                                                                 \n",
            "=================================================================\n",
            "Total params: 3,747,334\n",
            "Trainable params: 3,747,334\n",
            "Non-trainable params: 0\n",
            "_________________________________________________________________\n",
            "75/75 [==============================] - 63s 836ms/step - loss: 0.0384 - accuracy: 0.9878\n"
          ]
        }
      ],
      "source": [
        "model.summary()\n",
        "scores = model.evaluate(x_test,y_test)"
      ]
    },
    {
      "cell_type": "code",
      "execution_count": null,
      "metadata": {
        "colab": {
          "base_uri": "https://localhost:8080/"
        },
        "id": "xtOefL0VkT4v",
        "outputId": "84b2e8c5-7d02-47a1-8e6f-65119c728d0e"
      },
      "outputs": [
        {
          "name": "stdout",
          "output_type": "stream",
          "text": [
            "The prediction for this image is:  Basella Alba (Basale)  probability:  1.0\n",
            "The prediction for this image is:  Muntingia Calabura (Jamaica Cherry-Gasagase)  probability:  1.0\n"
          ]
        }
      ],
      "source": [
        "from tensorflow import keras\n",
        "\n",
        "model_feat = keras.Model(inputs=model.input,outputs=model.get_layer('featureLayer').output)\n",
        "feat_test = model_feat.predict(x_identify)\n",
        "# score = knn.score(model_feat.predict(x_test),y_test)\n",
        "prediction = knn.predict(feat_test)\n",
        "proba = knn.predict_proba(feat_test)\n",
        "for i,pred in enumerate(prediction):\n",
        "  probability = max(proba[i])\n",
        "  if probability > 0.8:\n",
        "    print(\"The prediction for this image is: \", class_names[pred],\" probability: \",probability)\n",
        "  else:\n",
        "    print(\"Not Sure\")\n",
        "# print(score)"
      ]
    },
    {
      "cell_type": "code",
      "execution_count": null,
      "metadata": {
        "id": "2PO4ltP6xh1Y"
      },
      "outputs": [],
      "source": [
        "import pandas as pd\n",
        "import seaborn as sns\n",
        "from pylab import rcParams\n",
        "import matplotlib.pyplot as plt\n",
        "\n",
        "\n",
        "extractedFeatures = model_feat.predict(x_train)\n",
        "extractedFeatures = extractedFeatures.tolist()\n",
        "rows = []\n",
        "NPy_train = y_train.to_numpy()\n",
        "NPy_train = NPy_train.tolist()\n",
        "\n"
      ]
    },
    {
      "cell_type": "code",
      "execution_count": null,
      "metadata": {
        "colab": {
          "base_uri": "https://localhost:8080/",
          "height": 661
        },
        "id": "WBT0ihcX2qG3",
        "outputId": "c96894a2-f5da-4257-81e5-f09992f5ef40"
      },
      "outputs": [
        {
          "data": {
            "text/html": [
              "\n",
              "  <div id=\"df-4d7aa336-0c74-4aad-b1fa-9f1e35b93e18\">\n",
              "    <div class=\"colab-df-container\">\n",
              "      <div>\n",
              "<style scoped>\n",
              "    .dataframe tbody tr th:only-of-type {\n",
              "        vertical-align: middle;\n",
              "    }\n",
              "\n",
              "    .dataframe tbody tr th {\n",
              "        vertical-align: top;\n",
              "    }\n",
              "\n",
              "    .dataframe thead th {\n",
              "        text-align: right;\n",
              "    }\n",
              "</style>\n",
              "<table border=\"1\" class=\"dataframe\">\n",
              "  <thead>\n",
              "    <tr style=\"text-align: right;\">\n",
              "      <th></th>\n",
              "      <th>plants</th>\n",
              "      <th>Unit 1</th>\n",
              "      <th>Unit 2</th>\n",
              "      <th>Unit 3</th>\n",
              "      <th>Unit 4</th>\n",
              "      <th>Unit 5</th>\n",
              "      <th>Unit 6</th>\n",
              "      <th>Unit 7</th>\n",
              "      <th>Unit 8</th>\n",
              "      <th>Unit 9</th>\n",
              "      <th>...</th>\n",
              "      <th>Unit 55</th>\n",
              "      <th>Unit 56</th>\n",
              "      <th>Unit 57</th>\n",
              "      <th>Unit 58</th>\n",
              "      <th>Unit 59</th>\n",
              "      <th>Unit 60</th>\n",
              "      <th>Unit 61</th>\n",
              "      <th>Unit 62</th>\n",
              "      <th>Unit 63</th>\n",
              "      <th>Unit 64</th>\n",
              "    </tr>\n",
              "  </thead>\n",
              "  <tbody>\n",
              "    <tr>\n",
              "      <th>0</th>\n",
              "      <td>Basella Alba (Basale)</td>\n",
              "      <td>3.039769</td>\n",
              "      <td>-6.086596</td>\n",
              "      <td>-4.607802</td>\n",
              "      <td>1.684425</td>\n",
              "      <td>-14.311881</td>\n",
              "      <td>-5.214981</td>\n",
              "      <td>-4.743364</td>\n",
              "      <td>1.403098</td>\n",
              "      <td>-4.113302</td>\n",
              "      <td>...</td>\n",
              "      <td>4.765969</td>\n",
              "      <td>-2.221327</td>\n",
              "      <td>-17.438528</td>\n",
              "      <td>-7.879685</td>\n",
              "      <td>-4.972531</td>\n",
              "      <td>-6.194356</td>\n",
              "      <td>1.005831</td>\n",
              "      <td>-2.149885</td>\n",
              "      <td>5.388345</td>\n",
              "      <td>-7.434130</td>\n",
              "    </tr>\n",
              "    <tr>\n",
              "      <th>416</th>\n",
              "      <td>Basella Alba (Basale)</td>\n",
              "      <td>6.139093</td>\n",
              "      <td>-5.337140</td>\n",
              "      <td>-6.388371</td>\n",
              "      <td>-1.301125</td>\n",
              "      <td>-13.662910</td>\n",
              "      <td>-8.159821</td>\n",
              "      <td>-3.039151</td>\n",
              "      <td>-0.332086</td>\n",
              "      <td>-4.174579</td>\n",
              "      <td>...</td>\n",
              "      <td>3.967649</td>\n",
              "      <td>-3.448441</td>\n",
              "      <td>-17.791941</td>\n",
              "      <td>-7.415794</td>\n",
              "      <td>-7.276398</td>\n",
              "      <td>-6.907481</td>\n",
              "      <td>0.155876</td>\n",
              "      <td>-1.580620</td>\n",
              "      <td>6.727867</td>\n",
              "      <td>-5.567032</td>\n",
              "    </tr>\n",
              "    <tr>\n",
              "      <th>419</th>\n",
              "      <td>Basella Alba (Basale)</td>\n",
              "      <td>9.185321</td>\n",
              "      <td>-6.713936</td>\n",
              "      <td>-6.760001</td>\n",
              "      <td>-1.739181</td>\n",
              "      <td>-10.571580</td>\n",
              "      <td>-3.655156</td>\n",
              "      <td>-2.342044</td>\n",
              "      <td>5.363740</td>\n",
              "      <td>-2.774448</td>\n",
              "      <td>...</td>\n",
              "      <td>8.111106</td>\n",
              "      <td>-0.484199</td>\n",
              "      <td>-16.861881</td>\n",
              "      <td>-3.851629</td>\n",
              "      <td>-8.940806</td>\n",
              "      <td>-6.367157</td>\n",
              "      <td>0.190864</td>\n",
              "      <td>-2.988308</td>\n",
              "      <td>8.361267</td>\n",
              "      <td>-2.458791</td>\n",
              "    </tr>\n",
              "    <tr>\n",
              "      <th>425</th>\n",
              "      <td>Basella Alba (Basale)</td>\n",
              "      <td>12.310262</td>\n",
              "      <td>-8.262340</td>\n",
              "      <td>-5.611836</td>\n",
              "      <td>-3.705929</td>\n",
              "      <td>-12.989668</td>\n",
              "      <td>-5.014920</td>\n",
              "      <td>-2.327209</td>\n",
              "      <td>4.472640</td>\n",
              "      <td>-3.911486</td>\n",
              "      <td>...</td>\n",
              "      <td>6.287286</td>\n",
              "      <td>-2.124542</td>\n",
              "      <td>-17.705267</td>\n",
              "      <td>-5.128060</td>\n",
              "      <td>-8.092690</td>\n",
              "      <td>-6.045382</td>\n",
              "      <td>0.917901</td>\n",
              "      <td>-3.594009</td>\n",
              "      <td>8.817727</td>\n",
              "      <td>-4.997761</td>\n",
              "    </tr>\n",
              "    <tr>\n",
              "      <th>433</th>\n",
              "      <td>Basella Alba (Basale)</td>\n",
              "      <td>7.948895</td>\n",
              "      <td>-7.286814</td>\n",
              "      <td>-4.980141</td>\n",
              "      <td>-2.988317</td>\n",
              "      <td>-11.298792</td>\n",
              "      <td>-4.886454</td>\n",
              "      <td>-7.184749</td>\n",
              "      <td>4.275017</td>\n",
              "      <td>-6.869623</td>\n",
              "      <td>...</td>\n",
              "      <td>-0.924409</td>\n",
              "      <td>4.651696</td>\n",
              "      <td>-13.675770</td>\n",
              "      <td>-4.060236</td>\n",
              "      <td>-2.459726</td>\n",
              "      <td>-3.298030</td>\n",
              "      <td>-1.009896</td>\n",
              "      <td>-3.576444</td>\n",
              "      <td>6.525261</td>\n",
              "      <td>-6.327122</td>\n",
              "    </tr>\n",
              "    <tr>\n",
              "      <th>...</th>\n",
              "      <td>...</td>\n",
              "      <td>...</td>\n",
              "      <td>...</td>\n",
              "      <td>...</td>\n",
              "      <td>...</td>\n",
              "      <td>...</td>\n",
              "      <td>...</td>\n",
              "      <td>...</td>\n",
              "      <td>...</td>\n",
              "      <td>...</td>\n",
              "      <td>...</td>\n",
              "      <td>...</td>\n",
              "      <td>...</td>\n",
              "      <td>...</td>\n",
              "      <td>...</td>\n",
              "      <td>...</td>\n",
              "      <td>...</td>\n",
              "      <td>...</td>\n",
              "      <td>...</td>\n",
              "      <td>...</td>\n",
              "      <td>...</td>\n",
              "    </tr>\n",
              "    <tr>\n",
              "      <th>215</th>\n",
              "      <td>Tomato</td>\n",
              "      <td>5.804408</td>\n",
              "      <td>-4.364219</td>\n",
              "      <td>-5.407315</td>\n",
              "      <td>3.287189</td>\n",
              "      <td>-12.049432</td>\n",
              "      <td>-2.602078</td>\n",
              "      <td>-2.880654</td>\n",
              "      <td>-0.755941</td>\n",
              "      <td>-4.395657</td>\n",
              "      <td>...</td>\n",
              "      <td>6.848675</td>\n",
              "      <td>0.428775</td>\n",
              "      <td>-11.287978</td>\n",
              "      <td>0.722335</td>\n",
              "      <td>-3.353313</td>\n",
              "      <td>-3.821405</td>\n",
              "      <td>3.360927</td>\n",
              "      <td>-1.071800</td>\n",
              "      <td>-0.022084</td>\n",
              "      <td>-1.094482</td>\n",
              "    </tr>\n",
              "    <tr>\n",
              "      <th>513</th>\n",
              "      <td>Tomato</td>\n",
              "      <td>5.658112</td>\n",
              "      <td>-2.804574</td>\n",
              "      <td>-5.821914</td>\n",
              "      <td>2.849922</td>\n",
              "      <td>-14.114970</td>\n",
              "      <td>-4.631318</td>\n",
              "      <td>-3.440574</td>\n",
              "      <td>-3.128833</td>\n",
              "      <td>-6.190532</td>\n",
              "      <td>...</td>\n",
              "      <td>6.515515</td>\n",
              "      <td>-1.677697</td>\n",
              "      <td>-14.625506</td>\n",
              "      <td>-1.891656</td>\n",
              "      <td>-4.257290</td>\n",
              "      <td>-3.302785</td>\n",
              "      <td>3.932998</td>\n",
              "      <td>-2.492652</td>\n",
              "      <td>0.364062</td>\n",
              "      <td>-1.876888</td>\n",
              "    </tr>\n",
              "    <tr>\n",
              "      <th>834</th>\n",
              "      <td>Tomato</td>\n",
              "      <td>5.738208</td>\n",
              "      <td>-4.601757</td>\n",
              "      <td>-6.003296</td>\n",
              "      <td>4.918382</td>\n",
              "      <td>-13.317646</td>\n",
              "      <td>-4.149469</td>\n",
              "      <td>-4.137397</td>\n",
              "      <td>-0.384094</td>\n",
              "      <td>-6.055347</td>\n",
              "      <td>...</td>\n",
              "      <td>6.223580</td>\n",
              "      <td>-0.017833</td>\n",
              "      <td>-11.765574</td>\n",
              "      <td>-1.302580</td>\n",
              "      <td>-1.956969</td>\n",
              "      <td>-4.703917</td>\n",
              "      <td>2.694323</td>\n",
              "      <td>-0.972343</td>\n",
              "      <td>-0.932443</td>\n",
              "      <td>-3.706924</td>\n",
              "    </tr>\n",
              "    <tr>\n",
              "      <th>508</th>\n",
              "      <td>Tomato</td>\n",
              "      <td>7.354564</td>\n",
              "      <td>-4.856150</td>\n",
              "      <td>-7.332640</td>\n",
              "      <td>-1.823115</td>\n",
              "      <td>-18.145599</td>\n",
              "      <td>-3.809269</td>\n",
              "      <td>-8.610734</td>\n",
              "      <td>2.824817</td>\n",
              "      <td>-9.646304</td>\n",
              "      <td>...</td>\n",
              "      <td>2.338087</td>\n",
              "      <td>-0.057922</td>\n",
              "      <td>-18.014105</td>\n",
              "      <td>-3.774276</td>\n",
              "      <td>-3.069616</td>\n",
              "      <td>-4.165097</td>\n",
              "      <td>3.424049</td>\n",
              "      <td>-4.968573</td>\n",
              "      <td>2.852619</td>\n",
              "      <td>-7.334404</td>\n",
              "    </tr>\n",
              "    <tr>\n",
              "      <th>144</th>\n",
              "      <td>Tomato</td>\n",
              "      <td>4.643158</td>\n",
              "      <td>-2.046166</td>\n",
              "      <td>-4.837943</td>\n",
              "      <td>4.570148</td>\n",
              "      <td>-12.422316</td>\n",
              "      <td>-0.774113</td>\n",
              "      <td>-4.225557</td>\n",
              "      <td>0.613375</td>\n",
              "      <td>-4.168496</td>\n",
              "      <td>...</td>\n",
              "      <td>6.979272</td>\n",
              "      <td>-0.479503</td>\n",
              "      <td>-12.246757</td>\n",
              "      <td>-1.553935</td>\n",
              "      <td>-3.820528</td>\n",
              "      <td>-1.936287</td>\n",
              "      <td>4.020479</td>\n",
              "      <td>-1.425199</td>\n",
              "      <td>-0.158199</td>\n",
              "      <td>-1.729125</td>\n",
              "    </tr>\n",
              "  </tbody>\n",
              "</table>\n",
              "<p>1233 rows × 65 columns</p>\n",
              "</div>\n",
              "      <button class=\"colab-df-convert\" onclick=\"convertToInteractive('df-4d7aa336-0c74-4aad-b1fa-9f1e35b93e18')\"\n",
              "              title=\"Convert this dataframe to an interactive table.\"\n",
              "              style=\"display:none;\">\n",
              "        \n",
              "  <svg xmlns=\"http://www.w3.org/2000/svg\" height=\"24px\"viewBox=\"0 0 24 24\"\n",
              "       width=\"24px\">\n",
              "    <path d=\"M0 0h24v24H0V0z\" fill=\"none\"/>\n",
              "    <path d=\"M18.56 5.44l.94 2.06.94-2.06 2.06-.94-2.06-.94-.94-2.06-.94 2.06-2.06.94zm-11 1L8.5 8.5l.94-2.06 2.06-.94-2.06-.94L8.5 2.5l-.94 2.06-2.06.94zm10 10l.94 2.06.94-2.06 2.06-.94-2.06-.94-.94-2.06-.94 2.06-2.06.94z\"/><path d=\"M17.41 7.96l-1.37-1.37c-.4-.4-.92-.59-1.43-.59-.52 0-1.04.2-1.43.59L10.3 9.45l-7.72 7.72c-.78.78-.78 2.05 0 2.83L4 21.41c.39.39.9.59 1.41.59.51 0 1.02-.2 1.41-.59l7.78-7.78 2.81-2.81c.8-.78.8-2.07 0-2.86zM5.41 20L4 18.59l7.72-7.72 1.47 1.35L5.41 20z\"/>\n",
              "  </svg>\n",
              "      </button>\n",
              "      \n",
              "  <style>\n",
              "    .colab-df-container {\n",
              "      display:flex;\n",
              "      flex-wrap:wrap;\n",
              "      gap: 12px;\n",
              "    }\n",
              "\n",
              "    .colab-df-convert {\n",
              "      background-color: #E8F0FE;\n",
              "      border: none;\n",
              "      border-radius: 50%;\n",
              "      cursor: pointer;\n",
              "      display: none;\n",
              "      fill: #1967D2;\n",
              "      height: 32px;\n",
              "      padding: 0 0 0 0;\n",
              "      width: 32px;\n",
              "    }\n",
              "\n",
              "    .colab-df-convert:hover {\n",
              "      background-color: #E2EBFA;\n",
              "      box-shadow: 0px 1px 2px rgba(60, 64, 67, 0.3), 0px 1px 3px 1px rgba(60, 64, 67, 0.15);\n",
              "      fill: #174EA6;\n",
              "    }\n",
              "\n",
              "    [theme=dark] .colab-df-convert {\n",
              "      background-color: #3B4455;\n",
              "      fill: #D2E3FC;\n",
              "    }\n",
              "\n",
              "    [theme=dark] .colab-df-convert:hover {\n",
              "      background-color: #434B5C;\n",
              "      box-shadow: 0px 1px 3px 1px rgba(0, 0, 0, 0.15);\n",
              "      filter: drop-shadow(0px 1px 2px rgba(0, 0, 0, 0.3));\n",
              "      fill: #FFFFFF;\n",
              "    }\n",
              "  </style>\n",
              "\n",
              "      <script>\n",
              "        const buttonEl =\n",
              "          document.querySelector('#df-4d7aa336-0c74-4aad-b1fa-9f1e35b93e18 button.colab-df-convert');\n",
              "        buttonEl.style.display =\n",
              "          google.colab.kernel.accessAllowed ? 'block' : 'none';\n",
              "\n",
              "        async function convertToInteractive(key) {\n",
              "          const element = document.querySelector('#df-4d7aa336-0c74-4aad-b1fa-9f1e35b93e18');\n",
              "          const dataTable =\n",
              "            await google.colab.kernel.invokeFunction('convertToInteractive',\n",
              "                                                     [key], {});\n",
              "          if (!dataTable) return;\n",
              "\n",
              "          const docLinkHtml = 'Like what you see? Visit the ' +\n",
              "            '<a target=\"_blank\" href=https://colab.research.google.com/notebooks/data_table.ipynb>data table notebook</a>'\n",
              "            + ' to learn more about interactive tables.';\n",
              "          element.innerHTML = '';\n",
              "          dataTable['output_type'] = 'display_data';\n",
              "          await google.colab.output.renderOutput(dataTable, element);\n",
              "          const docLink = document.createElement('div');\n",
              "          docLink.innerHTML = docLinkHtml;\n",
              "          element.appendChild(docLink);\n",
              "        }\n",
              "      </script>\n",
              "    </div>\n",
              "  </div>\n",
              "  "
            ],
            "text/plain": [
              "                    plants     Unit 1    Unit 2    Unit 3    Unit 4  \\\n",
              "0    Basella Alba (Basale)   3.039769 -6.086596 -4.607802  1.684425   \n",
              "416  Basella Alba (Basale)   6.139093 -5.337140 -6.388371 -1.301125   \n",
              "419  Basella Alba (Basale)   9.185321 -6.713936 -6.760001 -1.739181   \n",
              "425  Basella Alba (Basale)  12.310262 -8.262340 -5.611836 -3.705929   \n",
              "433  Basella Alba (Basale)   7.948895 -7.286814 -4.980141 -2.988317   \n",
              "..                     ...        ...       ...       ...       ...   \n",
              "215                 Tomato   5.804408 -4.364219 -5.407315  3.287189   \n",
              "513                 Tomato   5.658112 -2.804574 -5.821914  2.849922   \n",
              "834                 Tomato   5.738208 -4.601757 -6.003296  4.918382   \n",
              "508                 Tomato   7.354564 -4.856150 -7.332640 -1.823115   \n",
              "144                 Tomato   4.643158 -2.046166 -4.837943  4.570148   \n",
              "\n",
              "        Unit 5    Unit 6    Unit 7    Unit 8    Unit 9  ...   Unit 55  \\\n",
              "0   -14.311881 -5.214981 -4.743364  1.403098 -4.113302  ...  4.765969   \n",
              "416 -13.662910 -8.159821 -3.039151 -0.332086 -4.174579  ...  3.967649   \n",
              "419 -10.571580 -3.655156 -2.342044  5.363740 -2.774448  ...  8.111106   \n",
              "425 -12.989668 -5.014920 -2.327209  4.472640 -3.911486  ...  6.287286   \n",
              "433 -11.298792 -4.886454 -7.184749  4.275017 -6.869623  ... -0.924409   \n",
              "..         ...       ...       ...       ...       ...  ...       ...   \n",
              "215 -12.049432 -2.602078 -2.880654 -0.755941 -4.395657  ...  6.848675   \n",
              "513 -14.114970 -4.631318 -3.440574 -3.128833 -6.190532  ...  6.515515   \n",
              "834 -13.317646 -4.149469 -4.137397 -0.384094 -6.055347  ...  6.223580   \n",
              "508 -18.145599 -3.809269 -8.610734  2.824817 -9.646304  ...  2.338087   \n",
              "144 -12.422316 -0.774113 -4.225557  0.613375 -4.168496  ...  6.979272   \n",
              "\n",
              "      Unit 56    Unit 57   Unit 58   Unit 59   Unit 60   Unit 61   Unit 62  \\\n",
              "0   -2.221327 -17.438528 -7.879685 -4.972531 -6.194356  1.005831 -2.149885   \n",
              "416 -3.448441 -17.791941 -7.415794 -7.276398 -6.907481  0.155876 -1.580620   \n",
              "419 -0.484199 -16.861881 -3.851629 -8.940806 -6.367157  0.190864 -2.988308   \n",
              "425 -2.124542 -17.705267 -5.128060 -8.092690 -6.045382  0.917901 -3.594009   \n",
              "433  4.651696 -13.675770 -4.060236 -2.459726 -3.298030 -1.009896 -3.576444   \n",
              "..        ...        ...       ...       ...       ...       ...       ...   \n",
              "215  0.428775 -11.287978  0.722335 -3.353313 -3.821405  3.360927 -1.071800   \n",
              "513 -1.677697 -14.625506 -1.891656 -4.257290 -3.302785  3.932998 -2.492652   \n",
              "834 -0.017833 -11.765574 -1.302580 -1.956969 -4.703917  2.694323 -0.972343   \n",
              "508 -0.057922 -18.014105 -3.774276 -3.069616 -4.165097  3.424049 -4.968573   \n",
              "144 -0.479503 -12.246757 -1.553935 -3.820528 -1.936287  4.020479 -1.425199   \n",
              "\n",
              "      Unit 63   Unit 64  \n",
              "0    5.388345 -7.434130  \n",
              "416  6.727867 -5.567032  \n",
              "419  8.361267 -2.458791  \n",
              "425  8.817727 -4.997761  \n",
              "433  6.525261 -6.327122  \n",
              "..        ...       ...  \n",
              "215 -0.022084 -1.094482  \n",
              "513  0.364062 -1.876888  \n",
              "834 -0.932443 -3.706924  \n",
              "508  2.852619 -7.334404  \n",
              "144 -0.158199 -1.729125  \n",
              "\n",
              "[1233 rows x 65 columns]"
            ]
          },
          "execution_count": 45,
          "metadata": {},
          "output_type": "execute_result"
        }
      ],
      "source": [
        "for i,features in enumerate(extractedFeatures):\n",
        "  rows.append([class_names[NPy_train[i][0]]] + features )\n",
        "\n",
        "featuresDF = pd.DataFrame(rows,columns=['plants'] + [f'Unit {i+1}' for i in range(64)])\n",
        "featuresDF = featuresDF.sort_values(by=['plants'])\n",
        "featuresDF"
      ]
    },
    {
      "cell_type": "code",
      "execution_count": null,
      "metadata": {
        "id": "1H8wp72F3CBR"
      },
      "outputs": [],
      "source": [
        "import pandas as pd\n",
        "import seaborn as sns\n",
        "from pylab import rcParams\n",
        "import matplotlib.pyplot as plt\n",
        "\n",
        "\n",
        "def plot_correlation(data):\n",
        "    '''\n",
        "    plot correlation's matrix to explore dependency between features \n",
        "    '''\n",
        "    # init figure size\n",
        "    rcParams['figure.figsize'] = 55, 20\n",
        "    fig = plt.figure()\n",
        "    sns.heatmap(data.corr(), annot=True, fmt=\".2f\")\n",
        "    plt.show()\n",
        "\n",
        "def plot_densities(data):\n",
        "    '''\n",
        "    Plot features densities depending on the outcome values\n",
        "    '''\n",
        "    # change fig size to fit all subplots beautifully \n",
        "    rcParams['figure.figsize'] = 15, 20\n",
        "\n",
        "    # separate data based on outcome values \n",
        "    outcome_0 = data[data['Outcome'] == 0]\n",
        "    outcome_1 = data[data['Outcome'] == 1]\n",
        "\n",
        "    # init figure\n",
        "    fig, axs = plt.subplots(8, 1)\n",
        "    fig.suptitle('Features densities for different outcomes 0/1')\n",
        "    plt.subplots_adjust(left = 0.25, right = 0.9, bottom = 0.1, top = 0.95,\n",
        "                        wspace = 0.2, hspace = 0.9)\n",
        "    names = list(data.columns)\n",
        "    # plot densities for outcomes\n",
        "    for column_name in names[:-1]: \n",
        "        ax = axs[names.index(column_name)]\n",
        "        #plt.subplot(4, 2, names.index(column_name) + 1)\n",
        "        outcome_0[column_name].plot(kind='density', ax=ax, subplots=True, \n",
        "                                    sharex=False, color=\"red\", legend=True,\n",
        "                                    label=column_name + ' for Outcome = 0')\n",
        "        outcome_1[column_name].plot(kind='density', ax=ax, subplots=True, \n",
        "                                     sharex=False, color=\"green\", legend=True,\n",
        "                                     label=column_name + ' for Outcome = 1')\n",
        "        ax.set_xlabel(column_name + ' values')\n",
        "        ax.set_title(column_name + ' density')\n",
        "        ax.grid('on')\n",
        "    plt.show()\n",
        "    fig.savefig('densities.png')\n",
        "\n",
        "  "
      ]
    },
    {
      "cell_type": "code",
      "execution_count": null,
      "metadata": {
        "colab": {
          "base_uri": "https://localhost:8080/",
          "height": 165
        },
        "id": "myD6fE9O4V1-",
        "outputId": "b0a01205-3321-473f-e15f-751cc94b885c"
      },
      "outputs": [
        {
          "ename": "NameError",
          "evalue": "ignored",
          "output_type": "error",
          "traceback": [
            "\u001b[0;31m---------------------------------------------------------------------------\u001b[0m",
            "\u001b[0;31mNameError\u001b[0m                                 Traceback (most recent call last)",
            "\u001b[0;32m<ipython-input-161-766618fcc5b5>\u001b[0m in \u001b[0;36m<module>\u001b[0;34m()\u001b[0m\n\u001b[0;32m----> 1\u001b[0;31m \u001b[0mplot_correlation\u001b[0m\u001b[0;34m(\u001b[0m\u001b[0mfeaturesDF\u001b[0m\u001b[0;34m)\u001b[0m\u001b[0;34m\u001b[0m\u001b[0;34m\u001b[0m\u001b[0m\n\u001b[0m",
            "\u001b[0;31mNameError\u001b[0m: name 'featuresDF' is not defined"
          ]
        }
      ],
      "source": [
        "plot_correlation(featuresDF) "
      ]
    },
    {
      "cell_type": "code",
      "execution_count": null,
      "metadata": {
        "colab": {
          "base_uri": "https://localhost:8080/"
        },
        "id": "RrXhUAW34Wat",
        "outputId": "db3e2fe1-82f7-4a11-82d8-abae90bc40fe"
      },
      "outputs": [
        {
          "name": "stdout",
          "output_type": "stream",
          "text": [
            "conv2d_42 (3, 3, 3, 32)\n",
            "conv2d_43 (3, 3, 32, 64)\n",
            "conv2d_44 (3, 3, 64, 64)\n",
            "conv2d_45 (3, 3, 64, 64)\n",
            "conv2d_46 (3, 3, 64, 64)\n",
            "conv2d_47 (3, 3, 64, 64)\n"
          ]
        }
      ],
      "source": [
        "\n",
        "# summarize filters in each convolutional layer\n",
        "from matplotlib import pyplot\n",
        "# load the model\n",
        "\n",
        "# summarize filter shapes\n",
        "for layer in model.layers:\n",
        "\t# check for convolutional layer\n",
        "\tif 'conv' not in layer.name:\n",
        "\t\tcontinue\n",
        "\t# get filter weights\n",
        "\tfilters, biases = layer.get_weights()\n",
        "\tprint(layer.name, filters.shape)"
      ]
    },
    {
      "cell_type": "code",
      "execution_count": null,
      "metadata": {
        "colab": {
          "base_uri": "https://localhost:8080/",
          "height": 626
        },
        "id": "Bx2n5XoFApkl",
        "outputId": "10d6c9ea-4a64-4946-8977-03bd53f57eda"
      },
      "outputs": [
        {
          "name": "stdout",
          "output_type": "stream",
          "text": [
            "(1, 254, 254, 32)\n"
          ]
        },
        {
          "name": "stderr",
          "output_type": "stream",
          "text": [
            "/usr/local/lib/python3.7/dist-packages/ipykernel_launcher.py:57: RuntimeWarning: invalid value encountered in true_divide\n"
          ]
        },
        {
          "name": "stdout",
          "output_type": "stream",
          "text": [
            "(1, 127, 127, 32)\n",
            "(1, 125, 125, 64)\n",
            "(1, 62, 62, 64)\n",
            "(1, 60, 60, 64)\n",
            "(1, 30, 30, 64)\n",
            "(1, 57600)\n",
            "(1, 64)\n",
            "(1, 64)\n",
            "(1, 6)\n"
          ]
        },
        {
          "data": {
            "image/png": "[encoded data removed]",
            "text/plain": [
              "<Figure size 1440x45 with 1 Axes>"
            ]
          },
          "metadata": {
            "needs_background": "light"
          },
          "output_type": "display_data"
        },
        {
          "data": {
            "image/png": "[encoded data removed]",
            "text/plain": [
              "<Figure size 1440x45 with 1 Axes>"
            ]
          },
          "metadata": {
            "needs_background": "light"
          },
          "output_type": "display_data"
        },
        {
          "data": {
            "image/png": "[encoded data removed]",
            "text/plain": [
              "<Figure size 1440x22.5 with 1 Axes>"
            ]
          },
          "metadata": {
            "needs_background": "light"
          },
          "output_type": "display_data"
        },
        {
          "data": {
            "image/png": "[encoded data removed]",
            "text/plain": [
              "<Figure size 1440x22.5 with 1 Axes>"
            ]
          },
          "metadata": {
            "needs_background": "light"
          },
          "output_type": "display_data"
        },
        {
          "data": {
            "image/png": "[encoded data removed]",
            "text/plain": [
              "<Figure size 1440x22.5 with 1 Axes>"
            ]
          },
          "metadata": {
            "needs_background": "light"
          },
          "output_type": "display_data"
        },
        {
          "data": {
            "image/png": "[encoded data removed]",
            "text/plain": [
              "<Figure size 1440x22.5 with 1 Axes>"
            ]
          },
          "metadata": {
            "needs_background": "light"
          },
          "output_type": "display_data"
        }
      ],
      "source": [
        "import tensorflow as tf\n",
        "from tensorflow.keras.models import Sequential\n",
        "from tensorflow.keras.layers import Dense, Conv2D, Flatten, Dropout, MaxPooling2D\n",
        "from tensorflow.keras.preprocessing.image import ImageDataGenerator, img_to_array, load_img\n",
        "import os\n",
        "import numpy as np\n",
        "import matplotlib.pyplot as plt\n",
        "x = []\n",
        "img='/content/drive/MyDrive/PlantVillage/Train/Plectranthus Amboinicus (Mexican Mint)/PA-S-001.jpg'\n",
        "img = cv2.imread(img)\n",
        "img = cv2.resize(img, (256,256), interpolation = cv2.INTER_AREA)\n",
        "processImg = removeBlurr(img)\n",
        "processImg = segment_image(processImg)\n",
        "processImg = sharpen_image(processImg)\n",
        "processImg = cv2.cvtColor(processImg,cv2.COLOR_RGB2GRAY)\n",
        "processImg = np.reshape(processImg,(256,256,1))\n",
        "#cv2_imshow(cv2.cvtColor(processImg, cv2.COLOR_BGR2RGB))\n",
        "# x_train.append(processImg)\n",
        "processImg = np.concatenate((np.array(img),np.array(processImg)),axis=2)\n",
        "rgb = rgba2rgb(np.array(processImg))\n",
        "# ridges = detect_ridges(rgb)\n",
        "x.append(rgb)\n",
        "x = np.array(x)\n",
        "# Let's run input image through our vislauization network\n",
        "# to obtain all intermediate representations for the image.\n",
        "successive_outputs = [layer.output for layer in model.layers[1:]]\n",
        "\n",
        "#visualization_model = Model(img_input, successive_outputs)\n",
        "visualization_model = tf.keras.models.Model(inputs = model.input, outputs = successive_outputs)\n",
        "\n",
        "successive_feature_maps = visualization_model.predict(x)\n",
        "# Retrieve are the names of the layers, so can have them as part of our plot\n",
        "layer_names = [layer.name for layer in model.layers]\n",
        "# -----------------------------------------------------------------------\n",
        "# Now let's display our representations\n",
        "# -----------------------------------------------------------------------\n",
        "figNum = 0\n",
        "for layer_name, feature_map in zip(layer_names, successive_feature_maps):\n",
        "  print(feature_map.shape)\n",
        "  if len(feature_map.shape) == 4:\n",
        "    \n",
        "    #-------------------------------------------\n",
        "    # Just do this for the conv / maxpool layers, not the fully-connected layers\n",
        "    #-------------------------------------------\n",
        "    n_features = feature_map.shape[-1]  # number of features in the feature map\n",
        "    size       = feature_map.shape[ 1]  # feature map shape (1, size, size, n_features)\n",
        "    \n",
        "    # We will tile our images in this matrix\n",
        "    display_grid = np.zeros((size, size * n_features))\n",
        "    \n",
        "    #-------------------------------------------------\n",
        "    # Postprocess the feature to be visually palatable\n",
        "    #-------------------------------------------------\n",
        "    for i in range(n_features):\n",
        "      x  = feature_map[0, :, :, i]\n",
        "      x -= x.mean()\n",
        "      x /= x.std ()\n",
        "      x *=  64\n",
        "      x += 128\n",
        "      x  = np.clip(x, 0, 255).astype('uint8')\n",
        "      display_grid[:, i * size : (i + 1) * size] = x # Tile each filter into a horizontal grid\n",
        "\n",
        "\n",
        "    #-----------------\n",
        "    # Display the grid\n",
        "    #-----------------\n",
        "\n",
        "    scale = 20. / n_features\n",
        "    plt.figure( figsize=(scale * n_features, scale) )\n",
        "    plt.title ( layer_name )\n",
        "    plt.grid  ( False )\n",
        "    plt.imshow( display_grid, aspect='auto' ) \n",
        "    # plt.savefig(f'/content/drive/MyDrive/PlantVillage/Features/feature{figNum}PA-S-001.jpg.png', dpi=500)\n",
        "    figNum +=1"
      ]
    },
    {
      "cell_type": "markdown",
      "metadata": {
        "id": "BayKatCCYI--"
      },
      "source": [
        "\n",
        "\n",
        "### Test Camera"
      ]
    },
    {
      "cell_type": "code",
      "execution_count": null,
      "metadata": {
        "colab": {
          "base_uri": "https://localhost:8080/",
          "height": 356
        },
        "id": "LkJZhGBLYIBu",
        "outputId": "469b6a57-df22-4caa-ea85-921b15d562a1"
      },
      "outputs": [
        {
          "ename": "AttributeError",
          "evalue": "ignored",
          "output_type": "error",
          "traceback": [
            "\u001b[0;31m---------------------------------------------------------------------------\u001b[0m",
            "\u001b[0;31mAttributeError\u001b[0m                            Traceback (most recent call last)",
            "\u001b[0;32m<ipython-input-6-a909b8c87be8>\u001b[0m in \u001b[0;36m<module>\u001b[0;34m()\u001b[0m\n\u001b[1;32m      8\u001b[0m \u001b[0;34m\u001b[0m\u001b[0m\n\u001b[1;32m      9\u001b[0m     \u001b[0;31m# Display the resulting frame\u001b[0m\u001b[0;34m\u001b[0m\u001b[0;34m\u001b[0m\u001b[0;34m\u001b[0m\u001b[0m\n\u001b[0;32m---> 10\u001b[0;31m     \u001b[0mcv2_imshow\u001b[0m\u001b[0;34m(\u001b[0m\u001b[0mframe\u001b[0m\u001b[0;34m)\u001b[0m\u001b[0;34m\u001b[0m\u001b[0;34m\u001b[0m\u001b[0m\n\u001b[0m\u001b[1;32m     11\u001b[0m \u001b[0;34m\u001b[0m\u001b[0m\n\u001b[1;32m     12\u001b[0m     \u001b[0;31m# the 'q' button is set as the\u001b[0m\u001b[0;34m\u001b[0m\u001b[0;34m\u001b[0m\u001b[0;34m\u001b[0m\u001b[0m\n",
            "\u001b[0;32m/usr/local/lib/python3.7/dist-packages/google/colab/patches/__init__.py\u001b[0m in \u001b[0;36mcv2_imshow\u001b[0;34m(a)\u001b[0m\n\u001b[1;32m     20\u001b[0m       \u001b[0mimage\u001b[0m\u001b[0;34m.\u001b[0m\u001b[0;34m\u001b[0m\u001b[0;34m\u001b[0m\u001b[0m\n\u001b[1;32m     21\u001b[0m   \"\"\"\n\u001b[0;32m---> 22\u001b[0;31m   \u001b[0ma\u001b[0m \u001b[0;34m=\u001b[0m \u001b[0ma\u001b[0m\u001b[0;34m.\u001b[0m\u001b[0mclip\u001b[0m\u001b[0;34m(\u001b[0m\u001b[0;36m0\u001b[0m\u001b[0;34m,\u001b[0m \u001b[0;36m255\u001b[0m\u001b[0;34m)\u001b[0m\u001b[0;34m.\u001b[0m\u001b[0mastype\u001b[0m\u001b[0;34m(\u001b[0m\u001b[0;34m'uint8'\u001b[0m\u001b[0;34m)\u001b[0m\u001b[0;34m\u001b[0m\u001b[0;34m\u001b[0m\u001b[0m\n\u001b[0m\u001b[1;32m     23\u001b[0m   \u001b[0;31m# cv2 stores colors as BGR; convert to RGB\u001b[0m\u001b[0;34m\u001b[0m\u001b[0;34m\u001b[0m\u001b[0;34m\u001b[0m\u001b[0m\n\u001b[1;32m     24\u001b[0m   \u001b[0;32mif\u001b[0m \u001b[0ma\u001b[0m\u001b[0;34m.\u001b[0m\u001b[0mndim\u001b[0m \u001b[0;34m==\u001b[0m \u001b[0;36m3\u001b[0m\u001b[0;34m:\u001b[0m\u001b[0;34m\u001b[0m\u001b[0;34m\u001b[0m\u001b[0m\n",
            "\u001b[0;31mAttributeError\u001b[0m: 'NoneType' object has no attribute 'clip'"
          ]
        }
      ],
      "source": [
        "vid = cv2.VideoCapture(0)\n",
        "\n",
        "while(True):\n",
        "      \n",
        "    # Capture the video frame\n",
        "    # by frame\n",
        "    ret, frame = vid.read()\n",
        "  \n",
        "    # Display the resulting frame\n",
        "    cv2_imshow(frame)\n",
        "      \n",
        "    # the 'q' button is set as the\n",
        "    # quitting button you may use any\n",
        "    # desired button of your choice\n",
        "    if cv2.waitKey(1) & 0xFF == ord('q'):\n",
        "        break\n",
        "  \n",
        "# After the loop release the cap object\n",
        "vid.release()\n",
        "# Destroy all the windows\n",
        "cv2.destroyAllWindows()"
      ]
    }
  ],
  "metadata": {
    "colab": {
      "collapsed_sections": [
        "fnqlF0_Qrn8q"
      ],
      "name": "leaf Classification CNN-kNN.ipynb",
      "provenance": [],
      "toc_visible": true
    },
    "gpuClass": "standard",
    "kernelspec": {
      "display_name": "Python 3.8.0 ('.venv': venv)",
      "language": "python",
      "name": "python3"
    },
    "language_info": {
      "name": "python",
      "version": "3.9.13"
    },
    "vscode": {
      "interpreter": {
        "hash": "c1c1638b0463a4fdb02808456651a8d3dfe41bf882a6881db1c1500d322fe4f3"
      }
    }
  },
  "nbformat": 4,
  "nbformat_minor": 0
}
